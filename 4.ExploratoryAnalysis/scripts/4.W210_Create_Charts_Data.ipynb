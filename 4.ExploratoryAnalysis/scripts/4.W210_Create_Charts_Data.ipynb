{
 "cells": [
  {
   "cell_type": "code",
   "execution_count": 1,
   "metadata": {
    "collapsed": false
   },
   "outputs": [],
   "source": [
    "#copy files from s3 ( to be done only once)\n",
    "#!aws s3 cp s3://ncw210data/NewClusterFiles/ /home/ubuntu/data/models_data/ --recursive"
   ]
  },
  {
   "cell_type": "code",
   "execution_count": 9,
   "metadata": {
    "collapsed": true
   },
   "outputs": [],
   "source": [
    "!mkdir /home/ubuntu/data/models_data/chartdatafiles"
   ]
  },
  {
   "cell_type": "code",
   "execution_count": 13,
   "metadata": {
    "collapsed": false
   },
   "outputs": [],
   "source": [
    "from datetime import datetime\n",
    "def create_charts_data_for_small_files(filename,p,c):\n",
    "    df_data = pd.read_csv(filename)\n",
    "    df_data['pub_year'] = df_data['pub_date'].apply(lambda x: datetime.strptime(str(x),'%Y%m%d').year)\n",
    "    df_data['appl_year'] = df_data['appl_date'].apply(lambda x: datetime.strptime(str(x),'%Y%m%d').year)\n",
    "    #round the year to nearest half year\n",
    "    df_data['years_to_publish'] = df_data['number_of_days'].apply(lambda x: round(x/365 * 2.0) / 2.0)\n",
    "    \n",
    "    df_publ_years = df_data.groupby(['pub_year']).size().reset_index(name='count')\n",
    "    json_publ_years = df_publ_years.to_json(orient='records')\n",
    "    \n",
    "    df_appl_years = df_data.groupby(['appl_year']).size().reset_index(name='count')\n",
    "    json_appl_years = df_appl_years.to_json(orient='records')\n",
    "    \n",
    "    df_years = df_data.groupby(['years_to_publish']).size().reset_index(name='count')\n",
    "    json_years = df_years.to_json(orient='records')\n",
    "    \n",
    "    outputfilename = '/home/ubuntu/data/models_data/chartdatafiles/chart_cluster_data_'+ str(p) + '_' +str(c) + '.csv' \n",
    "    with open(outputfilename, \"w\") as chart_file:\n",
    "        chart_file.write(json_publ_years + '\\n' + json_appl_years + '\\n' + json_years )\n",
    "    "
   ]
  },
  {
   "cell_type": "code",
   "execution_count": 15,
   "metadata": {
    "collapsed": true
   },
   "outputs": [],
   "source": [
    "#create tfidf models for second level clustered files\n",
    "for p in range(0,10):\n",
    "    for c in range(0,10):\n",
    "        filename = '/home/ubuntu/data/models_data/smalldatafiles/small_cluster_data_'+ str(p) + '_' +str(c) + '.csv' \n",
    "        create_charts_data_for_small_files(filename,p,c)"
   ]
  },
  {
   "cell_type": "code",
   "execution_count": 14,
   "metadata": {
    "collapsed": false
   },
   "outputs": [],
   "source": [
    "# filename = '/home/ubuntu/data/models_data/smalldatafiles/small_cluster_data_3_2.csv' \n",
    "# create_charts_data_for_small_files(filename,3,2)"
   ]
  },
  {
   "cell_type": "code",
   "execution_count": 16,
   "metadata": {
    "collapsed": true
   },
   "outputs": [],
   "source": [
    "#Copy files to S3\n",
    "#!aws s3 cp /home/ubuntu/data/models_data/chartdatafiles/ s3://ncw210data/NewClusterFiles/chartdatafiles/  --recursive --only-show-errors"
   ]
  },
  {
   "cell_type": "code",
   "execution_count": 17,
   "metadata": {
    "collapsed": true
   },
   "outputs": [],
   "source": [
    "#!aws s3 cp /home/ubuntu/data/models_data/chartdatafiles/ s3://ncw210data/FullTextDataClusters/  --recursive --only-show-errors"
   ]
  },
  {
   "cell_type": "code",
   "execution_count": null,
   "metadata": {
    "collapsed": true
   },
   "outputs": [],
   "source": []
  }
 ],
 "metadata": {
  "anaconda-cloud": {},
  "kernelspec": {
   "display_name": "Python [Root]",
   "language": "python",
   "name": "Python [Root]"
  },
  "language_info": {
   "codemirror_mode": {
    "name": "ipython",
    "version": 3
   },
   "file_extension": ".py",
   "mimetype": "text/x-python",
   "name": "python",
   "nbconvert_exporter": "python",
   "pygments_lexer": "ipython3",
   "version": "3.5.2"
  }
 },
 "nbformat": 4,
 "nbformat_minor": 2
}
