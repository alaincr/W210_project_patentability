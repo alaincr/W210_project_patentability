{
 "cells": [
  {
   "cell_type": "code",
   "execution_count": 9,
   "metadata": {},
   "outputs": [
    {
     "name": "stdout",
     "output_type": "stream",
     "text": [
      "numpy version 1.13.3 is OK\n",
      "matplotlib version 2.0.2 is OK\n",
      "pandas version 0.20.3 is OK\n",
      "nltk version 3.2.5 is OK\n"
     ]
    }
   ],
   "source": [
    "# Version checks\n",
    "import importlib\n",
    "\n",
    "def version_check(libname, min_version):\n",
    "    m = importlib.import_module(libname)\n",
    "    print \"%s version %s is\" % (libname, m.__version__),\n",
    "    print (\"OK\" if m.__version__ >= min_version \n",
    "           else \"out-of-date. Please upgrade!\")\n",
    "    \n",
    "version_check(\"numpy\", \"1.11\")\n",
    "version_check(\"matplotlib\", \"1.5\")\n",
    "version_check(\"pandas\", \"0.18\")\n",
    "version_check(\"nltk\", \"3.2\")\n",
    "#version_check(\"tensorflow\", \"0.12.1\")"
   ]
  },
  {
   "cell_type": "code",
   "execution_count": null,
   "metadata": {},
   "outputs": [],
   "source": []
  },
  {
   "cell_type": "code",
   "execution_count": null,
   "metadata": {},
   "outputs": [],
   "source": []
  },
  {
   "cell_type": "code",
   "execution_count": null,
   "metadata": {},
   "outputs": [],
   "source": []
  }
 ],
 "metadata": {
  "kernelspec": {
   "display_name": "Python 2",
   "language": "python",
   "name": "python2"
  },
  "language_info": {
   "codemirror_mode": {
    "name": "ipython",
    "version": 2
   },
   "file_extension": ".py",
   "mimetype": "text/x-python",
   "name": "python",
   "nbconvert_exporter": "python",
   "pygments_lexer": "ipython2",
   "version": "2.7.3"
  }
 },
 "nbformat": 4,
 "nbformat_minor": 2
}
