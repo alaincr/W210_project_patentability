{
 "cells": [
  {
   "cell_type": "code",
   "execution_count": null,
   "metadata": {
    "collapsed": true
   },
   "outputs": [],
   "source": [
    "#prepare the application id counts file"
   ]
  },
  {
   "cell_type": "code",
   "execution_count": 34,
   "metadata": {
    "collapsed": true
   },
   "outputs": [],
   "source": [
    "!mkdir /home/ubuntu/data/fulltextdatacp"
   ]
  },
  {
   "cell_type": "code",
   "execution_count": null,
   "metadata": {
    "collapsed": false
   },
   "outputs": [],
   "source": [
    "applids_filename = '/home/ubuntu/data/fulltextdatacp/patent_applicationids_all_years.csv'\n",
    "!rm $applids_filename\n",
    "for year in reversed(range(2005,2018)): \n",
    "    s3filename = 's3://ncw210data/FullTextData/patent_claim_data_' + str(year) + '.csv'\n",
    "    textdatafilename = '/home/ubuntu/data/fulltextdatacp/patent_claim_data_' + str(year) + '.csv'\n",
    "    \n",
    "    !aws s3 cp $s3filename $textdatafilename\n",
    "        \n",
    "    df_data = pd.read_csv(textdatafilename,header=None, usecols=[0])\n",
    "    df_data.to_csv(applids_filename,index=False, sep=',', mode='a', header=False)\n",
    "    !rm $textdatafilename"
   ]
  },
  {
   "cell_type": "code",
   "execution_count": 45,
   "metadata": {
    "collapsed": true
   },
   "outputs": [],
   "source": [
    "applids_filename = '/home/ubuntu/data/fulltextdatacp/patent_applicationids_all_years.csv'\n",
    "df_data = pd.read_csv(applids_filename,header=None, usecols=[0],names=['appl_doc_number'])\n",
    "df_data_counts = df_data.groupby(['appl_doc_number']).size().reset_index(name='count')"
   ]
  },
  {
   "cell_type": "code",
   "execution_count": 47,
   "metadata": {
    "collapsed": true
   },
   "outputs": [],
   "source": [
    "applid_counts_filename = '/home/ubuntu/data/fulltextdatacp/patent_applicationid_counts_all_years.csv'\n",
    "df_data_counts.to_csv(applid_counts_filename,index=False, sep=',')"
   ]
  },
  {
   "cell_type": "code",
   "execution_count": 50,
   "metadata": {
    "collapsed": false
   },
   "outputs": [
    {
     "name": "stdout",
     "output_type": "stream",
     "text": [
      "upload: ../data/fulltextdatacp/patent_applicationids_all_years.csv to s3://ncw210data/FullTextData/patent_applicationids_all_years.csv\n",
      "upload: ../data/fulltextdatacp/patent_applicationid_counts_all_years.csv to s3://ncw210data/FullTextData/patent_applicationid_counts_all_years.csv\n"
     ]
    }
   ],
   "source": [
    "#upload to S3\n",
    "!aws s3 cp /home/ubuntu/data/fulltextdatacp/patent_applicationids_all_years.csv s3://ncw210data/FullTextData/patent_applicationids_all_years.csv\n",
    "!aws s3 cp /home/ubuntu/data/fulltextdatacp/patent_applicationid_counts_all_years.csv s3://ncw210data/FullTextData/patent_applicationid_counts_all_years.csv    "
   ]
  },
  {
   "cell_type": "code",
   "execution_count": 2,
   "metadata": {
    "collapsed": false
   },
   "outputs": [],
   "source": [
    "# import pandas as pd\n",
    "# df_ids = pd.read_csv('/home/ubuntu/data/fulltextdatacp/patent_applicationid_counts_all_years.csv')\n",
    "# df_id_counts = df_ids.groupby(['count']).size().reset_index(name='count123')\n",
    "#print(df_id_counts)"
   ]
  },
  {
   "cell_type": "code",
   "execution_count": null,
   "metadata": {
    "collapsed": true
   },
   "outputs": [],
   "source": []
  },
  {
   "cell_type": "code",
   "execution_count": null,
   "metadata": {
    "collapsed": true
   },
   "outputs": [],
   "source": [
    "#prepare the grant data file"
   ]
  },
  {
   "cell_type": "code",
   "execution_count": 83,
   "metadata": {
    "collapsed": false
   },
   "outputs": [],
   "source": [
    "#!mkdir /home/ubuntu/data/grantdatacp\n",
    "#!aws s3 cp s3://ncw210data/PatentGrantData/ /home/ubuntu/data/grantdatacp/ --recursive --only-show-errors --exclude \"*\" --include \"patent_grant_data_2*.csv\""
   ]
  },
  {
   "cell_type": "code",
   "execution_count": 159,
   "metadata": {
    "collapsed": true
   },
   "outputs": [],
   "source": [
    "!rm /home/ubuntu/data/grantdatacp/patent_grant_data_all_years.csv\n",
    "!cat /home/ubuntu/data/grantdatacp/*.csv > /home/ubuntu/data/grantdatacp/patent_grant_data_all_years.csv\n",
    "filename = '/home/ubuntu/data/grantdatacp/patent_grant_data_all_years.csv'\n",
    "!sed  -i '1i appl_doc_number,appl_date,patent_number,patent_date,patent_doc_kind,pat_number_of_days,length_of_grant,references_count,number_of_claims' $filename"
   ]
  },
  {
   "cell_type": "code",
   "execution_count": 162,
   "metadata": {
    "collapsed": false
   },
   "outputs": [],
   "source": [
    "#drop the appl_date column, remove duplciates\n",
    "df_data = pd.read_csv(filename)\n",
    "df_data = df_data.drop('appl_date', 1)\n",
    "df_data = df_data.drop_duplicates(subset=['appl_doc_number'], keep=False)\n",
    "\n",
    "#df_data['patent_num_prefix'] = df_data['patent_number'].apply(lambda x: re.findall('\\d*\\D+',x)[0] if (x and x[0].isalpha()) else ('UTL' if x else '') )\n",
    "#regex = re.compile('[^a-zA-Z]')\n",
    "#df_data['patent_num_prefix'] = df_data['patent_number'].apply(lambda x: regex.sub('', x) if (x and x[0].isalpha()) else ('UTL' if x else x))\n",
    "#df_data[['references_count','number_of_claims']] = df_data[['references_count','number_of_claims']].apply(pd.to_numeric)\n",
    "\n",
    "df_data.to_csv(filename,index=False, sep=',')"
   ]
  },
  {
   "cell_type": "code",
   "execution_count": 164,
   "metadata": {
    "collapsed": false
   },
   "outputs": [
    {
     "name": "stdout",
     "output_type": "stream",
     "text": [
      "upload: ../data/grantdatacp/patent_grant_data_all_years.csv to s3://ncw210data/FullTextData/patent_grant_data_all_years.csv\n"
     ]
    }
   ],
   "source": [
    "#upload to S3\n",
    "!aws s3 cp /home/ubuntu/data/grantdatacp/patent_grant_data_all_years.csv s3://ncw210data/FullTextData/patent_grant_data_all_years.csv"
   ]
  },
  {
   "cell_type": "code",
   "execution_count": null,
   "metadata": {
    "collapsed": true
   },
   "outputs": [],
   "source": [
    "#Now merge these extra columns to small cluster data files"
   ]
  },
  {
   "cell_type": "code",
   "execution_count": 14,
   "metadata": {
    "collapsed": false
   },
   "outputs": [],
   "source": [
    "import numpy as np\n",
    "def combine_with_smalldata(p,c,smalldatafilespath,df_applcountsdata,df_grantdata):\n",
    "    smalldatafilename = smalldatafilespath + str(p) + '_' + str(c) + '.csv'\n",
    "    outputfilename = '/home/ubuntu/data/smalldataoutput/small_cluster_data_' + str(p) + '_' + str(c) + '.csv'\n",
    "    df_smalldata = pd.read_csv(smalldatafilename)\n",
    "    #, usecols=['appl_doc_number','appl_country','appl_date','pub_doc_number','pub_date','number_of_days','invention_title','abstract','claim_text','claim_text_stemmed','top_cluster','pr_0','pr_1','pr_2','pr_3','pr_4','pr_5','pr_6','pr_7','pr_8','pr_9'])\n",
    "    df_joined = df_smalldata.reset_index().merge(df_applcountsdata, how=\"left\",left_on = 'appl_doc_number', right_on = 'appl_doc_number').set_index('index')\n",
    "    df_joined_grant = df_joined.reset_index().merge(df_grantdata, how=\"left\",left_on = 'appl_doc_number', right_on = 'appl_doc_number').set_index('index')\n",
    "    \n",
    "    df_joined_grant.to_csv(outputfilename,index=False, sep=',')\n"
   ]
  },
  {
   "cell_type": "code",
   "execution_count": null,
   "metadata": {
    "collapsed": false,
    "scrolled": true
   },
   "outputs": [],
   "source": [
    "#call the function for second level clustered files\n",
    "import numpy as np\n",
    "applcountsfilename = '/home/ubuntu/data/fulltextdatacp/patent_applicationid_counts_all_years.csv'\n",
    "grantfilename = '/home/ubuntu/data/grantdatacp/patent_grant_data_all_years.csv'\n",
    "df_applcountsdata = pd.read_csv(applcountsfilename)\n",
    "df_grantdata = pd.read_csv(grantfilename)\n",
    "smalldatafilespath = '/home/ubuntu/data/models_data/smalldatafiles/small_cluster_data_'\n",
    "\n",
    "for p in range(0,10):\n",
    "    for c in range(0,10):\n",
    "        combine_with_smalldata(p,c,smalldatafilespath,df_applcountsdata,df_grantdata)"
   ]
  },
  {
   "cell_type": "code",
   "execution_count": 3,
   "metadata": {
    "collapsed": true
   },
   "outputs": [],
   "source": [
    "#upload to S3\n",
    "!aws s3 cp /home/ubuntu/data/smalldataoutput/ s3://ncw210data/FullTextDataClusters/ --recursive --only-show-errors"
   ]
  },
  {
   "cell_type": "code",
   "execution_count": 15,
   "metadata": {
    "collapsed": true
   },
   "outputs": [],
   "source": [
    "!aws s3 cp /home/ubuntu/data/smalldataoutput/ s3://ncw210data/NewClusterFiles/smalldatafiles/ --recursive --only-show-errors"
   ]
  },
  {
   "cell_type": "code",
   "execution_count": null,
   "metadata": {
    "collapsed": true
   },
   "outputs": [],
   "source": []
  }
 ],
 "metadata": {
  "anaconda-cloud": {},
  "kernelspec": {
   "display_name": "Python [Root]",
   "language": "python",
   "name": "Python [Root]"
  },
  "language_info": {
   "codemirror_mode": {
    "name": "ipython",
    "version": 3
   },
   "file_extension": ".py",
   "mimetype": "text/x-python",
   "name": "python",
   "nbconvert_exporter": "python",
   "pygments_lexer": "ipython3",
   "version": "3.5.2"
  }
 },
 "nbformat": 4,
 "nbformat_minor": 1
}
