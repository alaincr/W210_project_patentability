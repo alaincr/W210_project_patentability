{
 "cells": [
  {
   "cell_type": "code",
   "execution_count": 1,
   "metadata": {
    "collapsed": false
   },
   "outputs": [],
   "source": [
    "#copy files from s3 ( to be done only once)\n",
    "#!aws s3 cp s3://ncw210data/NewClusterFiles/ /home/ubuntu/data/models_data/ --recursive --only-show-errors"
   ]
  },
  {
   "cell_type": "code",
   "execution_count": 8,
   "metadata": {
    "collapsed": false
   },
   "outputs": [
    {
     "name": "stdout",
     "output_type": "stream",
     "text": [
      "appl_doc_number,appl_country,appl_date,pub_doc_number,pub_date,number_of_days,invention_title,abstract,claim_text,claim_text_stemmed,top_cluster,pr_0,pr_1,pr_2,pr_3,pr_4,pr_5,pr_6,pr_7,pr_8,pr_9,count,patent_number,patent_date,patent_doc_kind,pat_number_of_days,length_of_grant,references_count,number_of_claims\r\n"
     ]
    }
   ],
   "source": [
    "!head -1 /home/ubuntu/data/models_data/smalldatafiles/small_cluster_data_7_5.csv"
   ]
  },
  {
   "cell_type": "code",
   "execution_count": 25,
   "metadata": {
    "collapsed": false
   },
   "outputs": [
    {
     "name": "stdout",
     "output_type": "stream",
     "text": [
      "Overwriting patent_search_script.py\n"
     ]
    }
   ],
   "source": [
    "%%writefile patent_search_script.py\n",
    "# same cleaning and stemming function used while creating the csv files from xml to be used for query\n",
    "import nltk\n",
    "import re\n",
    "sb_stemmer = nltk.stem.SnowballStemmer('english')\n",
    "\n",
    "def tokenize_and_stem(text):\n",
    "    text_stem = ''\n",
    "    for word in text.lower().split():\n",
    "        if text_stem:\n",
    "            text_stem =  text_stem + ' ' + sb_stemmer.stem(word)\n",
    "        else:\n",
    "            text_stem = sb_stemmer.stem(word)\n",
    "    return text_stem\n",
    "\n",
    "\n",
    "def clean_stem(string):\n",
    "    stopwords = {'back', 'thru', 'eg', 'hereafter', 'too', 'part', 'which', 'will', 'be', 'thereupon', 'about', 'nevertheless', 'therein', 'through', 'we', 'among', 'in', 'then', 'former', 'via', 'below', 'whereafter', 'due', 'you', 'bill', 'forty', 'few', 'not', 'with', 'rather', 'next', 'nine', 'me', 'its', 'sometime', 'yours', 'who', 'whoever', 'down', 'some', 'such', 'thereafter', 'hasnt', 'fifteen', 'both', 'as', 'ever', 'could', 'find', 'hence', 'something', 'a', 'there', 'mostly', 'whereas', 'many', 'serious', 'can', 'indeed', 'afterwards', 'whenever', 'by', 'becomes', 'may', 'after', 'couldnt', 'seemed', 'anyhow', 'etc', 'might', 'already', 'no', 'please', 'them', 'myself', 'therefore', 'from', 'along', 'ltd', 'against', 'everywhere', 'amoungst', 'because', 'where', 'sixty', 'ie', 'although', 'sincere', 'move', 'seeming', 'or', 'wherever', 'inc', 'whatever', 'into', 'anywhere', 'around', 'nor', 'see', 'several', 'sometimes', 'for', 'interest', 'beyond', 'whether', 'detail', 'describe', 'moreover', 'nobody', 'whereupon', 're', 'without', 'an', 'ours', 'perhaps', 'only', 'five', 'towards', 'keep', 'eleven', 'one', 'other', 'any', 'otherwise', 'except', 'that', 'cannot', 'behind', 'ourselves', 'under', 'within', 'fifty', 'across', 'if', 'thus', 'per', 'wherein', 'here', 'empty', 'co', 'still', 'whole', 'how', 'off', 'to', 'yourself', 'call', 'cry', 'four', 'so', 'she', 'take', 'their', 'been', 'now', 'even', 'mill', 'what', 'another', 'namely', 'always', 'themselves', 'almost', 'six', 'formerly', 'ten', 'found', 'onto', 'yet', 'between', 'give', 'hers', 'herein', 'eight', 'above', 'anyway', 'third', 'himself', 'front', 'over', 'two', 'much', 'latter', 'itself', 'besides', 'those', 'on', 'twenty', 'up', 'us', 'amongst', 'beforehand', 'but', 'most', 'same', 'mine', 'should', 'this', 'full', 'herself', 'her', 'thick', 'con', 'everything', 'is', 'am', 'three', 'throughout', 'again', 'enough', 'your', 'once', 'hereupon', 'become', 'yourselves', 'everyone', 'before', 'i', 'whereby', 'others', 'must', 'seems', 'elsewhere', 'were', 'either', 'would', 'became', 'hundred', 'toward', 'very', 'latterly', 'top', 'often', 'beside', 'cant', 'else', 'the', 'however', 'and', 'somehow', 'him', 'noone', 'somewhere', 'our', 'nothing', 'de', 'fill', 'well', 'it', 'all', 'last', 'do', 'these', 'has', 'upon', 'every', 'side', 'system', 'put', 'thence', 'twelve', 'becoming', 'show', 'un', 'least', 'of', 'have', 'own', 'since', 'though', 'whither', 'out', 'hereby', 'meanwhile', 'none', 'while', 'whom', 'further', 'why', 'made', 'whose', 'my', 'someone', 'they', 'during', 'anyone', 'first', 'go', 'less', 'his', 'anything', 'thereby', 'amount', 'together', 'never', 'was', 'thin', 'also', 'each', 'fire', 'are', 'when', 'alone', 'had', 'until', 'done', 'more', 'at', 'than', 'nowhere', 'seem', 'whence', 'name', 'neither', 'he', 'get', 'being', 'bottom'}\n",
    "    #strip and change to lower case and replace commas and semi colons with spaces\n",
    "    stem = string.strip().lower().replace(';', ' ').replace(',', ' ').replace(':', ' ').replace('(',' ').replace(')',' ').replace('#', ' ').replace('.', ' ').strip()\n",
    "         \n",
    "    # remove words that only have numbers( second one removes special characters also)\n",
    "    stem = re.sub(r'\\b\\d+\\b', ' ',stem).strip()\n",
    "    \n",
    "    #remove special characters at the end of words\n",
    "    stem = re.sub(r'([^\\w\\s]|_)+(?=\\s|$)', ' ',stem).strip()\n",
    "    \n",
    "    #remove any words that have a number in it ( even if in the middle )\n",
    "    stem = re.sub(r'\\w*\\d\\w*', ' ',stem).strip()\n",
    "    \n",
    "    # remove any words with only one alphabet\n",
    "    stem = re.sub(r'\\b[a-zA-Z]\\b', ' ',stem).strip()\n",
    "    \n",
    "    # remove stop words and change to lower case\n",
    "    stem = ' '.join([item for item in (stem.strip().split()) if item not in stopwords])\n",
    "    \n",
    "    # get words greater than length 4 and less than 25\n",
    "    stem = ' '.join([item for item in (re.findall('\\w{4,25}', stem))])\n",
    "    #re.findall('\\w{4,25}', stem).join(' ').strip() \n",
    "    \n",
    "     #apply stemming for all words\n",
    "    stem = tokenize_and_stem(stem)\n",
    "    return stem\n",
    "\n",
    "#query for first level cluster and then second level cluster\n",
    "import pickle\n",
    "from sklearn.feature_extraction.text import TfidfVectorizer\n",
    "from sklearn.feature_extraction import stop_words\n",
    "from sklearn.feature_extraction import text\n",
    "import pandas as pd\n",
    "from scipy import spatial\n",
    "import nltk\n",
    "from string import printable\n",
    "sb_stemmer = nltk.stem.SnowballStemmer('english')\n",
    "\n",
    "my_words = ['','()','(),']\n",
    "my_stop_words = text.ENGLISH_STOP_WORDS.union(my_words)\n",
    "\n",
    "def tokenize(doc):\n",
    "    return doc.lower().split(\" \")\n",
    "\n",
    "def query_first_level_cluster(query_string):\n",
    "    #find first level cluster\n",
    "    nmf_filename = '/home/ubuntu/data/models_data/nmfmodels/nmf_model_X.sav'\n",
    "    tfidf_filename = '/home/ubuntu/data/models_data/tfidfmodels/tfidf_model_X.sav'\n",
    "    # load the model from disk\n",
    "    loaded_nmf_model = pickle.load(open(nmf_filename, 'rb'))\n",
    "    loaded_tfidf_model = pickle.load(open(tfidf_filename, 'rb'))\n",
    "\n",
    "    query_string_pr_stem = clean_stem(query_string)\n",
    "\n",
    "    query_tfidf = loaded_tfidf_model.transform([query_string_pr_stem])\n",
    "    nmf_query = loaded_nmf_model.transform(query_tfidf)\n",
    "    # print(nmf_query)\n",
    "    # nmf_query.argmax(axis=1)\n",
    "    return(nmf_query.argmax(axis=1)[0])\n",
    "\n",
    "def query_second_level_cluster(query_string, first_level_cluster):\n",
    "    #find second level cluster\n",
    "    nmf_filename = '/home/ubuntu/data/models_data/nmfmodels/nmf_model_' + str(first_level_cluster) + '.sav'\n",
    "    tfidf_filename = '/home/ubuntu/data/models_data/tfidfmodels/tfidf_model_' + str(first_level_cluster) + '.sav' \n",
    "    # load the model from disk\n",
    "    loaded_nmf_model = pickle.load(open(nmf_filename, 'rb'))\n",
    "    loaded_tfidf_model = pickle.load(open(tfidf_filename, 'rb'))\n",
    "    \n",
    "    query_string_pr_stem = clean_stem(query_string)\n",
    "    \n",
    "    query_tfidf = loaded_tfidf_model.transform([query_string_pr_stem])\n",
    "    nmf_query = loaded_nmf_model.transform(query_tfidf)\n",
    "    # print(nmf_query)\n",
    "    # nmf_query.argmax(axis=1)\n",
    "    return(nmf_query.argmax(axis=1)[0])\n",
    "\n",
    "def query_similarities(query_string, first_level_cluster,second_level_cluster,cosine_sim_threshold,top):\n",
    "    #find top similarities for a given cluster combo\n",
    "    \n",
    "    filename = '/home/ubuntu/data/models_data/smalldatafiles/small_cluster_data_' + str(first_level_cluster) + '_' + str(second_level_cluster) + '.csv'\n",
    "    tfidf_model_filename = '/home/ubuntu/data/models_data/tfidfmodels/tfidf_model_' + str(first_level_cluster) + '_' + str(second_level_cluster) + '.sav'\n",
    "    tfidf_filename = '/home/ubuntu/data/models_data/tfidfmodels/tfidf_' + str(first_level_cluster) + '_' + str(second_level_cluster) + '.sav'\n",
    "\n",
    "    df_data = pd.read_csv(filename,usecols = ['appl_doc_number', 'appl_doc_number', 'invention_title','abstract','claim_text','patent_number'])\n",
    "    loaded_tfidf_vectorizer = pickle.load(open(tfidf_model_filename, 'rb'))\n",
    "    loaded_tfidf = pickle.load(open(tfidf_filename, 'rb'))\n",
    "    \n",
    "    \n",
    "    query_tfidf = loaded_tfidf_vectorizer.transform([query_string])\n",
    "\n",
    "    df_result = pd.DataFrame(columns=['cosine_similarity', 'appl_doc_number','invention_title','abstract','claim_text','patent_number'])\n",
    "\n",
    "    # get the result and add to a new dataframe\n",
    "    loc_index = 0\n",
    "    patent_query = query_tfidf.toarray()[0]\n",
    "    for index_corpus, patent_corpus in enumerate(loaded_tfidf.toarray()):\n",
    "        #cosine_sim = cosine_similarity(patent_query, patent_corpus)\n",
    "        cosine_sim = 1 - spatial.distance.cosine(patent_query, patent_corpus)\n",
    "        if cosine_sim > cosine_sim_threshold:\n",
    "            #res_row = df_data.iloc[index_corpus]\n",
    "            df_result.loc[loc_index] = [cosine_sim,df_data.iloc[index_corpus]['appl_doc_number'],df_data.iloc[index_corpus]['invention_title'],df_data.iloc[index_corpus]['abstract'],df_data.iloc[index_corpus]['claim_text'],df_data.iloc[index_corpus]['patent_number']]\n",
    "            #df_result.loc[loc_index] = [cosine_sim,res_row['appl_doc_number'],res_row['invention_title'],res_row['abstract'],res_row['claim_text'],res_row['patent_number']]\n",
    "            \n",
    "            loc_index += 1\n",
    "\n",
    "    # sort the results and pick top results        \n",
    "    df_result = df_result.sort_values('cosine_similarity',ascending=[False])\n",
    "       \n",
    "    df_result = df_result[:top]\n",
    "    \n",
    "    #remove any non-printable characters\n",
    "    df_result['abstract'] = df_result['abstract'].apply(lambda x: re.sub(r'[^\\x00-\\x7f]',r'', x))\n",
    "    df_result['abstract'] = df_result['abstract'].apply(lambda x: x.replace(\" &#8216\", '').replace(\" &#8217\", ''))\n",
    "    df_result['claim_text'] = df_result['claim_text'].apply(lambda x: re.sub(r'[^\\x00-\\x7f]',r'', x))\n",
    "    df_result['claim_text'] = df_result['claim_text'].apply(lambda x: x.replace(\"&#8216;\", ' ').replace(\"&#8217;\", ' '))\n",
    " \n",
    "    return(df_result)\n",
    "\n",
    "def query_wrapper(query_string,cosine_sim_threshold,top):\n",
    "    first_cluster = query_first_level_cluster(query_string)\n",
    "    second_cluster = query_second_level_cluster(query_string,first_cluster)\n",
    "    df_result = query_similarities(query_string,first_cluster,second_cluster,cosine_sim_threshold,top)\n",
    "    return df_result,first_cluster,second_cluster\n",
    "    #return(first_cluster,second_cluster)"
   ]
  },
  {
   "cell_type": "code",
   "execution_count": 26,
   "metadata": {
    "collapsed": true
   },
   "outputs": [],
   "source": [
    "#https://stackoverflow.com/questions/42309133/return-pandas-dataframe-as-jsonp-response-in-python-flask"
   ]
  },
  {
   "cell_type": "code",
   "execution_count": 27,
   "metadata": {
    "collapsed": false
   },
   "outputs": [],
   "source": [
    "# from patent_search_script import *\n",
    "# print(query_wrapper('A method for controlling subscriber access in a network capable of establishing connections with a plurality of services, comprising:   receiving a communication from a subscriber using a first communication network coupled to a second communication network, said communication optionally including a domain identifier associated with a service on said second communication network; and    authorizing said subscriber to access a service on said second communication network using one of a plurality of virtual circuits, said authorizing based upon a domain configuration override attribute associated with the virtual circuit used to receive said communication from',0.3,5))"
   ]
  },
  {
   "cell_type": "code",
   "execution_count": 28,
   "metadata": {
    "collapsed": true
   },
   "outputs": [],
   "source": [
    "#https://stackoverflow.com/questions/7023052/configure-flask-dev-server-to-be-visible-across-the-network    "
   ]
  },
  {
   "cell_type": "code",
   "execution_count": 29,
   "metadata": {
    "collapsed": false
   },
   "outputs": [
    {
     "name": "stdout",
     "output_type": "stream",
     "text": [
      "Overwriting patent_api.py\n"
     ]
    }
   ],
   "source": [
    "%%writefile patent_api.py\n",
    "from flask import request, url_for\n",
    "from flask_api import FlaskAPI, status, exceptions\n",
    "from flask_jsonpify import jsonpify\n",
    "from patent_search_script import *\n",
    "from flask import json\n",
    "from flask_cors import CORS, cross_origin\n",
    "\n",
    "app = FlaskAPI(__name__)\n",
    "CORS(app)\n",
    "\n",
    "@app.route('/patentsearch',methods=['GET'])\n",
    "def patentsearch():\n",
    "    if request.method == 'GET':\n",
    "        query_string = str(request.args.get('query_string'))\n",
    "        cosine_sim_threshold = float(request.args.get('cosine_sim_threshold'))\n",
    "        top = int(request.args.get('top'))\n",
    "        \n",
    "        results, first_cluster, second_cluster = query_wrapper(query_string,cosine_sim_threshold,top)\n",
    "    \n",
    "        f_topics_filename = '/home/ubuntu/data/models_data/topics/topics_X.csv'\n",
    "        s_topics_filename = '/home/ubuntu/data/models_data/topics/topics_' + str(second_cluster) + '.csv'\n",
    "        df_f_topics = pd.read_csv(f_topics_filename,header=None,names = ['i','topics'])\n",
    "        df_s_topics = pd.read_csv(s_topics_filename,header=None,names = ['i','topics'])\n",
    "        \n",
    "        charts_filename = '/home/ubuntu/data/models_data/chartdatafiles/chart_cluster_data_' + str(first_cluster) + '_' + str(second_cluster) + '.csv'\n",
    "        chartfile = open(charts_filename, 'r') \n",
    "        i = 1\n",
    "        chart_text = ''\n",
    "        for line in chartfile:\n",
    "            if i == 1:\n",
    "                chart_text = \"\\\"charts_data\" + str(i) + \"\\\":\" + line \n",
    "            else:\n",
    "                chart_text += \", \" + \"\\\"charts_data\" + str(i) + \"\\\":\" + line \n",
    "            i += 1    \n",
    "        \n",
    "        json_str = '{'\n",
    "        json_str += '\\\"searchresult\\\":'\n",
    "        json_str += results.to_json(orient='records')\n",
    "        json_str +=  ',' + \"\\\"firstcluster\\\":\" + \"\\\"\" + str(first_cluster) + \"\\\"\"\n",
    "        json_str +=  ',' + \"\\\"secondcluster\\\":\" + \"\\\"\" + str(second_cluster) + \"\\\"\"\n",
    "        json_str +=  ',' + \"\\\"firstcluster_topics\\\":\" + \"\\\"\" + str(df_f_topics.iloc[first_cluster]['topics']).rsplit(' ', 1900)[0] + \"\\\"\"\n",
    "        json_str +=  ',' + \"\\\"secondcluster_topics\\\":\" + \"\\\"\" + str(df_s_topics.iloc[second_cluster]['topics']).rsplit(' ', 1900)[0] + \"\\\"\"\n",
    "        json_str +=  ',' + \"\\\"charts_data\\\": {\" + str(chart_text) + \"}\"\n",
    "        json_str += '}'\n",
    "        return json_str\n",
    "        \n",
    "if __name__ == \"__main__\":\n",
    "    app.run(host= '0.0.0.0',port=8080,debug=False) \n",
    "    #app.run(debug=True) "
   ]
  },
  {
   "cell_type": "code",
   "execution_count": 14,
   "metadata": {
    "collapsed": false
   },
   "outputs": [
    {
     "data": {
      "text/plain": [
       "26744"
      ]
     },
     "execution_count": 14,
     "metadata": {},
     "output_type": "execute_result"
    }
   ],
   "source": [
    "#run below code in terminal to start flask\n",
    "#python ./patent_api.py\n",
    "\n",
    "#python ./patent_api.py &\n",
    "26744\n",
    "\n",
    "#!chmod +x patent_api.py\n",
    "#ps -ef | grep patent_api.py\n",
    "#kill -9 xxxx"
   ]
  },
  {
   "cell_type": "code",
   "execution_count": null,
   "metadata": {
    "collapsed": true
   },
   "outputs": [],
   "source": [
    "#some sample api urls for testing\n",
    "\n",
    "http://ec2-54-89-199-144.compute-1.amazonaws.com:8080/patentsearch?query_string='A new and distinct cultivar of ornamental  Hosta  plant named Beckoning; as herein described and illustrated, with yellowish leaf center and blue-green margin, suitable as a potted plant, for the garden, and for cut flower arrangements.'&top=5&cosine_sim_threshold=0.3\n",
    "        \n",
    "http://ec2-54-89-199-144.compute-1.amazonaws.com:8080/patentsearch?query_string='A polymerization process comprising:   (a) making a polymeric material in a reactor loop comprising a fluidized bed reactor comprising a feed distributor, a recycle loop associated with the fluidized bed reactor and comprising a feed line; and (b) collecting spitwads in or removing spitwads from a feed to the fluidized bed reactor and the associated feed distributor with a spitwad catcher, wherein the spitwad catcher is located outside the fluidized bed reactor and in the feed line to the fluidized bed reactor and feed distributor.'&top=5&cosine_sim_threshold=0.3        \n",
    "        \n",
    "http://ec2-54-89-199-144.compute-1.amazonaws.com:8080.amazonaws.com.amazonaws.com:8080/patentsearch?query_string=''&top=5&cosine_sim_threshold=0.3\n",
    "        \n",
    "http://ec2-52-90-56-114.compute-1.amazonaws.com.amazonaws.com:8080/patentsearch?query_string='umbrella'&top=5&cosine_sim_threshold=0.3        \n",
    "\n",
    "\n",
    "http://ec2-52-90-56-114.compute-1.amazonaws.com:8080/patentsearch?query_string=%27A%20method%20for%20controlling%20subscriber%20access%20in%20a%20network%20capable%20of%20establishing%20connections%20with%20a%20plurality%20of%20services,%20comprising:%20receiving%20a%20communication%20from%20a%20subscriber%20using%20a%20first%20communication%20network%20coupled%20to%20a%20second%20communication%20network,%20said%20communication%20optionally%20including%20a%20domain%20identifier%20associated%20with%20a%20service%20on%20said%20second%20communication%20network;%20and%20authorizing%20said%20subscriber%20to%20access%20a%20service%20on%20said%20second%20communication%20network%20using%20one%20of%20a%20plurality%20of%20virtual%20circuits,%20said%20authorizing%20based%20upon%20a%20domain%20configuration%20override%20attribute%20associated%20with%20the%20virtual%20circuit%20used%20to%20receive%20said%20communication%20from%27&top=5&cosine_sim_threshold=0.3\n",
    "\n",
    "http://ec2-54-89-199-144.compute-1.amazonaws.com:8080/patentsearch?query_string='A new and distinct cultivar of ornamental  Hosta  plant named Beckoning; as herein described and illustrated, with yellowish leaf center and blue-green margin, suitable as a potted plant, for the garden, and for cut flower arrangements.'&top=5&cosine_sim_threshold=0.3\n",
    "\n",
    "http://ec2-52-90-56-114.compute-1.amazonaws.com:8080/patentsearch?query_string='A polymerization process comprising:   (a) making a polymeric material in a reactor loop comprising a fluidized bed reactor comprising a feed distributor, a recycle loop associated with the fluidized bed reactor and comprising a feed line; and (b) collecting spitwads in or removing spitwads from a feed to the fluidized bed reactor and the associated feed distributor with a spitwad catcher, wherein the spitwad catcher is located outside the fluidized bed reactor and in the feed line to the fluidized bed reactor and feed distributor.'&top=5&cosine_sim_threshold=0.3\n",
    "        \n",
    "http://ec2-52-90-56-114.compute-1.amazonaws.com:8080/patentsearch?query_string=''&top=5&cosine_sim_threshold=0.3\n",
    "        \n",
    "http://ec2-52-90-56-114.compute-1.amazonaws.com:8080/patentsearch?query_string=The%20polymerization%20process%20of%20claim%201%20wherein%20the%20polymeric%20material%20comprises%20a%20homopolymer%20of%20ethylene%20or%20an%20interpolymer%20of%20ethylene%20and%20at%20least%20one%20other%20olefin.%205%20.%20The%20polymerization%20process%20of%20claim%201%20wherein%20the%20spitwad%20catcher%20comprises%20a%20screen,%20filter%20or%20strainer.%206%20.%20An%20apparatus%20for%20making%20a%20polymeric%20material%20comprising:%20(a)%20a%20reactor%20loop%20comprising%20a%20fluidized%20bed%20reactor%20having%20a%20feed%20distributor,%20a%20recycle%20loop%20associated%20with%20the%20fluidized%20bed%20reactor%20and%20comprising%20a%20feed%20line,%20and%20(b)%20a%20spitwad%20catcher%20for%20collecting%20spitwads%20in%20or%20removing%20spitwads%20from%20the%20feed%20to%20the%20fluidized%20bed%20reactor%20and%20associated%20feed%20distributor,%20where%20the%20spitwad%20catcher%20is%20located%20outside%20the%20fluidized%20bed%20reactor%20and%20in%20the%20feed%20line%20to%20the%20fluidized%20bed%20reactor%20and%20feed%20distributor.%207%20.%20The%20apparatus%20of%20claim%206%20wherein%20the%20fluidized%20bed%20reactor%20is%20a%20continuous,%20gas%20phase%20reactor.%208%20.%20The%20apparatus%20of%20claim%206%20wherein%20the%20polymeric%20material%20comprises%20a%20polyolefin.&top=5&cosine_sim_threshold=0.3"
   ]
  },
  {
   "cell_type": "code",
   "execution_count": 1,
   "metadata": {
    "collapsed": false
   },
   "outputs": [
    {
     "name": "stdout",
     "output_type": "stream",
     "text": [
      "10990225,US,20041115,20050175028,20050811,269,Method for improving the quality of playback in the packet-oriented transmission of audio/video data,\"Strong fluctuations of the transmission capacity may frequently occur in the transmission of audio/video signals in modern telecommunication networks. Occasionally, even breaks in transmission may occur. To improve playback, an exemplary method is provided, which may be used in GSM networks and future UMTS networks as well as for the fixed network. In scalable encoding methods for audio and video transmission, the bit stream is depacketized into a base bit stream and a defined number of enhancement bit streams. The exemplary method provides that the base bit stream, which may ensure a fully adequate playback, is transmitted with priority. Enhancement bit streams are transmitted only to the extent allowed by the available transmission bit rate in the network. The prioritized transmission of the base bit stream allows for playback to start quickly. For bridging breaks in the transmission, the base bit stream is stored in a buffer.\",\"1 . A method for improving a playback quality in a packet-oriented transmission of audio/video data in at least one of GSM networks, future UMTS networks and a fixed network, on a basis of scalable encoding using a base bit stream and a defined number of enhancement bit streams, comprising:   transmitting the base bit stream with priority to allow for playback to start quickly, the base bit stream ensuring fully adequate audio/video playback;    ensuring the prioritized transmission of the base bit stream in the case of fluctuations of a transmission bit rate in the network by using a duration of the transmission of one of the base bit stream and the enhancement bit stream of a frame to calculate one of whether for a continuous playback additional enhancement bit streams of this frame is transmittable and whether the base bit stream of the next frame must already be requested, to automatically adapt the audio/video signal bit rate to an available transmission bit rate in the network;    filling a buffer on a receiver side with the base bit stream transmitted to bridge breaks in transmission from the buffer; and    preventing, in the event of breaks in the transmission, a blocking of the transmission channel by data packets that are no longer usable for correct playback.            2 . The method of  claim 1 , further comprising:   requesting faulty bit streams once more; and    transmitting the faulty bit stream with priority.            3 . The method of  claim 1 , further comprising:   transmitting a number of enhancement bit streams per frame and their bit rate to the available transmission bit rate in the network.\",method improv playback qualiti packet orient transmiss audio video data network futur umt network fix network basi scalabl encod use base stream defin number enhanc stream compris transmit base stream prioriti allow playback start quick base stream ensur fulli adequ audio video playback ensur priorit transmiss base stream case fluctuat transmiss rate network use durat transmiss base stream enhanc stream frame calcul continu playback addit enhanc stream frame transmitt base stream frame request automat adapt audio video signal rate avail transmiss rate network fill buffer receiv base stream transmit bridg break transmiss buffer prevent event break transmiss block transmiss channel data packet longer usabl correct playback method claim compris request faulti stream transmit faulti stream prioriti method claim compris transmit number enhanc stream frame rate avail transmiss rate network,5.0,0.0,30.8672,0.0,19.9727,0.0,41.3805,0.3231,1.6130000000000002,5.8435,0.0,1,,,,,,,\r\n"
     ]
    }
   ],
   "source": [
    "!sed -n '1000'p /home/ubuntu/data/models_data/smalldatafiles/small_cluster_data_7_5.csv\n",
    "\n"
   ]
  },
  {
   "cell_type": "code",
   "execution_count": null,
   "metadata": {
    "collapsed": true
   },
   "outputs": [],
   "source": []
  },
  {
   "cell_type": "code",
   "execution_count": 27,
   "metadata": {
    "collapsed": false
   },
   "outputs": [
    {
     "name": "stdout",
     "output_type": "stream",
     "text": [
      "[\r\n",
      "  [\r\n",
      "    0.6014921979121006,\r\n",
      "    11308622,\r\n",
      "    \"Reducing Overhead When Setting Up Multiple Virtual Circuits Using Signaling Protocols\",\r\n",
      "    \"Setting up a group of virtual circuits using a single set up message request. In an embodiment, fewer than all of the virtual circuits in the group are immediately provisioned, and the remaining virtual circuits are placed in an inactive status by appropriate configuration of all the devices in the path of the group of virtual circuits. Each of the inactive virtual circuits can be activated (complete provisioning) as and when required. The bandwidth overhead on the networks is reduced as fewer signaling messages would be used in provisioning several virtual circuits. The parsing overhead is reduced on the devices processing the signaling messages as a result.\",\r\n",
      "    \"1 . A method of setting up a plurality of virtual circuits between a first end system and a second end system, said plurality of virtual circuits being set up on a network connecting said first end system to said second end system, said method comprising:   sending to said second end system a first signaling message requesting said plurality of virtual circuits to be set up.\"\r\n",
      "  ],\r\n",
      "  [\r\n",
      "    0.5910380678172791,\r\n",
      "    10973550,\r\n",
      "    \"PPP domain name and L2TP tunnel selection configuration override\",\r\n",
      "    \"A method for controlling subscriber access in a network capable of establishing connections with multiple services includes receiving a communication from a subscriber using a first communication network coupled to a second communication network, the communication optionally including a domain identifier associated with a service on the second communication network, and authorizing the subscriber to access a service on the second communication network using a virtual circuit. The authorization is based upon a domain configuration override attribute associated with the virtual circuit used to receive the communication from the subscriber. An access server capable of forcing subscribers of a communications system to gain access exclusively to a domain network associated with a virtual circuit includes an authorizer to grant service authorization to the subscribers based upon a virtual circuit used to make a service request, a virtual circuit profile request generator to generate virtual circuit profile requests and a calculator to determine whether the service associated with the virtual circuit matches the service associated with a domain configuration override attribute.\",\r\n",
      "    \"1 . A method for controlling subscriber access in a network capable of establishing connections with a plurality of services, comprising:   receiving a communication from a subscriber using a first communication network coupled to a second communication network, said communication optionally including a domain identifier associated with a service on said second communication network; and    authorizing said subscriber to access a service on said second communication network using one of a plurality of virtual circuits, said authorizing based upon a domain configuration override attribute associated with the virtual circuit used to receive said communication from said subscriber.            2 - 36 . (canceled)\"\r\n",
      "  ],\r\n",
      "  [\r\n",
      "    0.4598419303585488,\r\n",
      "    12110661,\r\n",
      "    \"METHOD AND APPARATUS FOR RESOLVING A WEB SITE ADDRESS WHEN CONNECTED WITH A VIRTUAL PRIVATE NETWORK (VPN)\",\r\n",
      "    \"The present invention is directed at a method and apparatus of resolving an address location for a web site when connected with a virtual private network (VPN). Once the public host is connected to, or logged on to, the VPN, a software module within the public host monitors domain name requests and routes them to a domain name server (DNS) associated with the VPN. The VPN DNS then resolves the address Location request and returns the address location to the software module in the form of a domain name response. The software module then forwards the address location to the requesting public host.\",\r\n",
      "    \"1 . A method for resolving a web site address when connected with a virtual private network (VPN) comprising the steps of:  receiving a domain name request from a public host;   resolving said domain name request at a domain name server (DNS) associated with said VPN; and   returning an address location corresponding to said domain name request to said public host.\"\r\n",
      "  ],\r\n",
      "  [\r\n",
      "    0.37657010004803726,\r\n",
      "    13101398,\r\n",
      "    \"HOST-LEVEL POLICIES FOR GLOBAL SERVER LOAD BALANCING\",\r\n",
      "    \"In a network, a user can configure host-level policies usable for load balancing traffic to servers of a domain. A global server load balancing (GSLB) switch provides load balancing to the servers, and is configured with the GSLB host-level policies. Users can define a host-level policy (alternatively or additionally to a globally applied GSLB policy) and apply the host-level policy to hosts in domains configured on the GSLB switch. Thus, the user can enable different policies for different hosts. This allows the user to have the flexibility to control metrics used for selection of a best address for querying clients, as well as the metric order and additional parameters used in the GSLB process, at the host level.\",\r\n",
      "    \"1 . An apparatus, comprising:  storage means for storing a first load balancing policy associated with a first domain and a second load balancing policy associated with a second domain different from the first domain; and   network device means for performing load balancing for the first domain by ranking network addresses associated with the first domain according to the first load balancing policy, and for performing load balancing for the second domain by ranking network addresses associated with the second domain according to the second load balancing policy.          2 . The apparatus of  claim 1  wherein said network device means includes a load balancing switch.        3 . The apparatus of  claim 1  wherein said network addresses, associated with either or both the first and second domains and to be ranked by the network device means, include virtual addresses contained in a domain name system (DNS) reply received by the network device means.        4 . The apparatus of  claim 1  wherein:  said ranking network addresses associated with the first domain includes ordering, by the network device means, the network addresses associated with the first domain according to at least one metric specified in the first load balancing policy; and   said ranking network addresses associated with the second domain includes ordering, by the network device means, the network addresses associated with the second domain according to at least one metric specified in the second load balancing policy.          5 . The apparatus of  claim 1  wherein said network device means also performs load balancing for at least a third domain, by ranking network addresses associated with said at least the third domain according to a global load balancing policy.        6 . The apparatus of  claim 1  wherein said storage means is located in said network device means.\"\r\n",
      "  ],\r\n",
      "  [\r\n",
      "    0.373003477074614,\r\n",
      "    12642376,\r\n",
      "    \"IPv4/IPv6 Bridge\",\r\n",
      "    \"A virtual machine host may provide IPv4 connections to IPv4 virtual machine guests and map the connections to IPv6 networks. The IPv6 addressed exposed by the virtual machine host may be used in an IPv6 environment to communicate with the virtual machine guests, enabling various IPv6 connected scenarios for the IPv4 virtual machines. The virtual machine host may receive IPv6 communications, and translate those communications to IPv4 to communicate with the virtual machine guests. Similarly, the outbound IPv4 communications may be translated into IPv6 for communications to the IPv6 network.\",\r\n",
      "    \"1 . A virtual machine host comprising:  a processor;   a network interface comprising a physical connection to an IPv6 network;   a virtual machine host application configured to host a first virtual machine, said first virtual machine being configured to communicate using IPv4;   a virtual network configured to communicate with said first virtual machine;   a translator configured to receive IPv6 communication from said network interface, translate said IPv6 communication to IPv4 communication, and transmit said IPv4 communication over said virtual network.          2 . The virtual machine host of  claim 1  further comprising:  a virtual machine manager configured to assign a first IPv6 address for said first virtual machine.          3 . The virtual machine host of  claim 2 , said network interface configured to transmit said first IPv6 address to a Domain Name Service server.        4 . The virtual machine host of  claim 2 , said first IPv6 address being assigned by a method comprising:  transmitting a request for an IPv6 address to a remote server; and   receiving said first IPv6 address from said remote server.          5 . The virtual machine host of  claim 1 , said first virtual machine being incapable of having an IPv6 address.        6 . The virtual machine host of  claim 5 , said virtual network comprising an IPv4/IPv6 dual stack addressing scheme.        7 . The virtual machine host of  claim 6 , said virtual machine host application being further configured to host a second virtual machine, said second virtual machine being configured to communicate using IPv6.        8 . The virtual machine host of  claim 5 , said virtual network being an IPv4-only network.        9 . The virtual machine host of  claim 1 , said translator being further configured to perform a method comprising:  receiving a request from said first virtual machine for a network address;   determining a first IPv4 address for said first virtual machine; and   transmitting said first IPv4 address to said first virtual machine.          10 . The virtual machine host of  claim 9 , said method further comprising:  transmitting a request for an IPv6 address to a remote server; and   receiving said first IPv6 address from said remote server.          11 . The virtual machine host of  claim 10 , said translator having a table comprising a record comprising said first IPv4 address and said first IPv6 address.        12 . The virtual machine host of  claim 1 , said first virtual machine having a predefined IPv4 address.        13 . The virtual machine host of  claim 12 , said translator being further configured to perform a method comprising:  transmitting a request for an IPv6 address to a remote server;   receiving said first IPv6 address from said remote server; and   using said first IPv6 address as an address for said first virtual machine.          14 . A method performed by a processor on a virtual machine host comprising:  executing a first virtual machine in a virtual environment, said virtual environment comprising a virtual network, said virtual network being capable of routing IPv4 communications, said first virtual machine having a first IPv4 address;   receiving a first IPv6 communication from a physical network, said first IPv6 communication having a first IPv6 address;   determining that said first IPv4 address corresponds with said first IPv6 address and translating said first IPv6 communication into a first IPv4 communication; and   transmitting said first IPv4 communication on said first virtual network.          15 . The method of  claim 14  further comprising:  starting said first virtual machine in said virtual environment;   determining that said first IPv4 address is associated with said first virtual machine;   sending a request for said first IPv6 address to a remote device;   receiving said first IPv6 address from said remote device; and   storing said first IPv6 address and said first IPv4 address.          16 . The method of  claim 15  further comprising:  determining a first computer name for said first virtual machine; and   transmitting said first computer name to said remote device as part of said request.          17 . The method of  claim 16  further comprising:  said first IPv4 address being determined by said remote device.          18 . A virtual machine host comprising:  a processor;   a network interface comprising a physical connection to an IPv6 network;   a virtual machine host application configured to host virtual machines capable of communicating using IPv4 and not IPv6;   a virtual network configured to communicate using IPv4;   a Dynamic Host Configuration Protocol service on said virtual network configured to receive a request for an IPv4 address, said request comprising a virtual machine name, determine said IPv4 address, and respond to said request with said first IPv4 address;   a Dynamic Host Configuration Protocol client configured to transmit a request for an IPv6 address, said request comprising said virtual machine name, and receive said IPv6 address;   a database comprising said IPv4 address and said IPv6 address; and   a translator configured to receive IPv6 communication from said network interface, translate said IPv6 communication to IPv4 communication, and transmit said IPv4 communication over said virtual network.          19 . The virtual machine host of  claim 18 , said translator being further configured to receive IPv4 communications from said virtual network, translate said IPv4 communication to IPv6 communication, and transmit said IPv6 communication over said IPv6 network.        20 . The virtual machine host of  claim 19 , said translating said IPv4 communication to IPv6 communication comprising performing a Domain Name Service query to determine a second IPv6 address for a destination device.\"\r\n",
      "  ]\r\n",
      "]"
     ]
    }
   ],
   "source": [
    "!curl -X GET 'http://ec2-54-211-237-164.compute-1.amazonaws.com:8080/patentsearch?query_string=%27A%20method%20for%20controlling%20subscriber%20access%20in%20a%20network%20capable%20of%20establishing%20connections%20with%20a%20plurality%20of%20services,%20comprising:%20receiving%20a%20communication%20from%20a%20subscriber%20using%20a%20first%20communication%20network%20coupled%20to%20a%20second%20communication%20network,%20said%20communication%20optionally%20including%20a%20domain%20identifier%20associated%20with%20a%20service%20on%20said%20second%20communication%20network;%20and%20authorizing%20said%20subscriber%20to%20access%20a%20service%20on%20said%20second%20communication%20network%20using%20one%20of%20a%20plurality%20of%20virtual%20circuits,%20said%20authorizing%20based%20upon%20a%20domain%20configuration%20override%20attribute%20associated%20with%20the%20virtual%20circuit%20used%20to%20receive%20said%20communication%20from%27&top=5&cosine_sim_threshold=0.3'"
   ]
  },
  {
   "cell_type": "code",
   "execution_count": null,
   "metadata": {
    "collapsed": true
   },
   "outputs": [],
   "source": []
  }
 ],
 "metadata": {
  "anaconda-cloud": {},
  "kernelspec": {
   "display_name": "Python [Root]",
   "language": "python",
   "name": "Python [Root]"
  },
  "language_info": {
   "codemirror_mode": {
    "name": "ipython",
    "version": 3
   },
   "file_extension": ".py",
   "mimetype": "text/x-python",
   "name": "python",
   "nbconvert_exporter": "python",
   "pygments_lexer": "ipython3",
   "version": "3.5.2"
  }
 },
 "nbformat": 4,
 "nbformat_minor": 2
}
