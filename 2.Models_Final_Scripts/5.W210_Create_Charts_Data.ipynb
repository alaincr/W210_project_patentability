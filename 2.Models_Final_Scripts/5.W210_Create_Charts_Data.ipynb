{
 "cells": [
  {
   "cell_type": "code",
   "execution_count": 1,
   "metadata": {
    "collapsed": false
   },
   "outputs": [],
   "source": [
    "#copy files from s3 ( to be done only once)\n",
    "#!aws s3 cp s3://ncw210data/NewClusterFiles/ /home/ubuntu/data/models_data/ --recursive"
   ]
  },
  {
   "cell_type": "code",
   "execution_count": 9,
   "metadata": {
    "collapsed": true
   },
   "outputs": [],
   "source": [
    "!mkdir /home/ubuntu/data/models_data/chartdatafiles"
   ]
  },
  {
   "cell_type": "code",
   "execution_count": 76,
   "metadata": {
    "collapsed": false
   },
   "outputs": [
    {
     "name": "stdout",
     "output_type": "stream",
     "text": [
      "Index(['appl_doc_number', 'appl_date', 'pub_date', 'number_of_days',\n",
      "       'appl_change_count', 'patent_number', 'patent_date', 'patent_doc_kind',\n",
      "       'pat_number_of_days', 'length_of_grant', 'references_count',\n",
      "       'number_of_claims'],\n",
      "      dtype='object')\n"
     ]
    }
   ],
   "source": [
    "import pandas as pd\n",
    "filename = '/home/ubuntu/data/models_data/smalldatafiles/small_cluster_data_0_0.csv'\n",
    "#df_data = pd.read_csv('/home/ubuntu/data/smalldataoutput/small_cluster_data_0_0.csv',nrows = 10)\n",
    "\n",
    "df_data = pd.read_csv(filename,nrows = 10,usecols=['appl_doc_number','appl_date','pub_date','number_of_days','count','patent_number','patent_date','patent_doc_kind','pat_number_of_days','length_of_grant','references_count','number_of_claims'])\n",
    "df_data.columns.values[4] = 'appl_change_count'\n",
    "print(df_data.columns)"
   ]
  },
  {
   "cell_type": "code",
   "execution_count": 78,
   "metadata": {
    "collapsed": false
   },
   "outputs": [],
   "source": [
    "from datetime import datetime\n",
    "def create_charts_data_for_small_files(filename,p,c):\n",
    "    df_data = pd.read_csv(filename,usecols=['appl_doc_number','appl_date','pub_date','number_of_days','count','patent_number','patent_date','patent_doc_kind','pat_number_of_days','length_of_grant','references_count','number_of_claims'])\n",
    "    #rename the count column to appl_change_count\n",
    "    df_data.columns.values[4] = 'appl_change_count'\n",
    "    df_data['pub_year'] = df_data['pub_date'].apply(lambda x: datetime.strptime(str(x),'%Y%m%d').year)\n",
    "    df_data['patent_date'] = df_data['patent_date'].apply(lambda x: str(x).rstrip('.0') if x else x)\n",
    "    df_data['grant_year'] = df_data['patent_date'].apply(lambda x: datetime.strptime(str(x),'%Y%m%d').year if x and str(x).lower() != 'nan' else '')\n",
    "    df_data['appl_year'] = df_data['appl_date'].apply(lambda x: datetime.strptime(str(x),'%Y%m%d').year)\n",
    "    #round the year to nearest half year\n",
    "    df_data['years_to_publish'] = df_data['number_of_days'].apply(lambda x: round(x/365 * 2.0) / 2.0)\n",
    "    df_data['number_of_claims'] = df_data['number_of_claims'].apply(lambda x: round(x / 10) * 10 if x and str(x).lower() != 'nan' else x)\n",
    "    df_data['years_to_grant'] = df_data['pat_number_of_days'].apply(lambda x: round(x/365 * 2.0) / 2.0 if x and str(x).lower() != 'nan' else x)\n",
    "    \n",
    "    df_appl_change_count = df_data.groupby(['appl_change_count']).size().reset_index(name='count')\n",
    "    json_appl_change_count = df_appl_change_count.to_json(orient='records')\n",
    "    \n",
    "    df_publ_years = df_data.groupby(['pub_year']).size().reset_index(name='count')\n",
    "    json_publ_years = df_publ_years.to_json(orient='records')\n",
    "    \n",
    "    df_grant_years = df_data.groupby(['grant_year']).size().reset_index(name='count')\n",
    "    json_grant_years = df_grant_years.to_json(orient='records')\n",
    "    \n",
    "    df_appl_years = df_data.groupby(['appl_year']).size().reset_index(name='count')\n",
    "    json_appl_years = df_appl_years.to_json(orient='records')\n",
    "    \n",
    "    df_years = df_data.groupby(['years_to_publish']).size().reset_index(name='count')\n",
    "    json_years = df_years.to_json(orient='records')\n",
    "    \n",
    "    df_years_grant = df_data.groupby(['years_to_grant']).size().reset_index(name='count')\n",
    "    json_years_grant = df_years_grant.to_json(orient='records')\n",
    "    \n",
    "    df_kind = df_data.groupby(['patent_doc_kind']).size().reset_index(name='count')\n",
    "    json_kind= df_kind.to_json(orient='records')\n",
    "    \n",
    "    df_no_of_claims = df_data.groupby(['number_of_claims']).size().reset_index(name='count')\n",
    "    json_no_of_claims= df_no_of_claims.to_json(orient='records')\n",
    "      \n",
    "    outputfilename = '/home/ubuntu/data/models_data/chartdatafiles/chart_cluster_data_'+ str(p) + '_' +str(c) + '.csv' \n",
    "    with open(outputfilename, \"w\") as chart_file:\n",
    "        chart_file.write(json_publ_years + '\\n' + json_appl_years + '\\n' + json_grant_years +  '\\n' + \n",
    "                        json_years + '\\n' +json_years_grant + '\\n' + json_kind + '\\n' + json_appl_change_count + '\\n' + json_no_of_claims)\n",
    "    "
   ]
  },
  {
   "cell_type": "code",
   "execution_count": 79,
   "metadata": {
    "collapsed": false
   },
   "outputs": [
    {
     "name": "stderr",
     "output_type": "stream",
     "text": [
      "/home/ubuntu/anaconda3/lib/python3.5/site-packages/IPython/core/interactiveshell.py:2825: DtypeWarning: Columns (22) have mixed types. Specify dtype option on import or set low_memory=False.\n",
      "  if self.run_code(code, result):\n"
     ]
    }
   ],
   "source": [
    "#create chart files for second level clustered files\n",
    "for p in range(0,10):\n",
    "    for c in range(0,10):\n",
    "        filename = '/home/ubuntu/data/models_data/smalldatafiles/small_cluster_data_'+ str(p) + '_' +str(c) + '.csv' \n",
    "        create_charts_data_for_small_files(filename,p,c)"
   ]
  },
  {
   "cell_type": "code",
   "execution_count": 84,
   "metadata": {
    "collapsed": false
   },
   "outputs": [
    {
     "name": "stderr",
     "output_type": "stream",
     "text": [
      "/home/ubuntu/anaconda3/lib/python3.5/site-packages/IPython/core/interactiveshell.py:2723: DtypeWarning: Columns (22) have mixed types. Specify dtype option on import or set low_memory=False.\n",
      "  interactivity=interactivity, compiler=compiler, result=result)\n"
     ]
    },
    {
     "name": "stdout",
     "output_type": "stream",
     "text": [
      "(4317210, 12)\n"
     ]
    }
   ],
   "source": [
    "#create chart file for all data\n",
    "import pandas as pd\n",
    "from datetime import datetime\n",
    "df_all = pd.DataFrame()\n",
    "for p in range(0,10):\n",
    "    for c in range(0,10):\n",
    "        filename = '/home/ubuntu/data/models_data/smalldatafiles/small_cluster_data_'+ str(p) + '_' +str(c) + '.csv' \n",
    "        df_data = pd.read_csv(filename,usecols=['appl_doc_number','appl_date','pub_date','number_of_days','count','patent_number','patent_date','patent_doc_kind','pat_number_of_days','length_of_grant','references_count','number_of_claims'])\n",
    "        df_all = df_all.append(df_data, ignore_index=True)\n",
    "        #create_charts_data_for_small_files(filename,p,c)\n",
    "        \n",
    "print(df_all.shape)        "
   ]
  },
  {
   "cell_type": "code",
   "execution_count": 85,
   "metadata": {
    "collapsed": true
   },
   "outputs": [],
   "source": [
    "#rename the count column to appl_change_count\n",
    "df_all.columns.values[4] = 'appl_change_count'\n",
    "df_all['pub_year'] = df_all['pub_date'].apply(lambda x: datetime.strptime(str(x),'%Y%m%d').year)\n",
    "df_all['patent_date'] = df_all['patent_date'].apply(lambda x: str(x).rstrip('.0') if x else x)\n",
    "df_all['grant_year'] = df_all['patent_date'].apply(lambda x: datetime.strptime(str(x),'%Y%m%d').year if x and str(x).lower() != 'nan' else '')\n",
    "df_all['appl_year'] = df_all['appl_date'].apply(lambda x: datetime.strptime(str(x),'%Y%m%d').year)\n",
    "#round the year to nearest half year\n",
    "df_all['years_to_publish'] = df_all['number_of_days'].apply(lambda x: round(x/365 * 2.0) / 2.0)\n",
    "df_all['number_of_claims'] = df_all['number_of_claims'].apply(lambda x: round(x / 10) * 10 if x and str(x).lower() != 'nan' else x)\n",
    "df_all['years_to_grant'] = df_all['pat_number_of_days'].apply(lambda x: round(x/365 * 2.0) / 2.0 if x and str(x).lower() != 'nan' else x)\n",
    "\n",
    "df_appl_change_count = df_all.groupby(['appl_change_count']).size().reset_index(name='count')\n",
    "json_appl_change_count = df_appl_change_count.to_json(orient='records')\n",
    "\n",
    "df_publ_years = df_all.groupby(['pub_year']).size().reset_index(name='count')\n",
    "json_publ_years = df_publ_years.to_json(orient='records')\n",
    "\n",
    "df_grant_years = df_all.groupby(['grant_year']).size().reset_index(name='count')\n",
    "json_grant_years = df_grant_years.to_json(orient='records')\n",
    "\n",
    "df_appl_years = df_all.groupby(['appl_year']).size().reset_index(name='count')\n",
    "json_appl_years = df_appl_years.to_json(orient='records')\n",
    "\n",
    "df_years = df_all.groupby(['years_to_publish']).size().reset_index(name='count')\n",
    "json_years = df_years.to_json(orient='records')\n",
    "\n",
    "df_years_grant = df_all.groupby(['years_to_grant']).size().reset_index(name='count')\n",
    "json_years_grant = df_years_grant.to_json(orient='records')\n",
    "\n",
    "df_kind = df_all.groupby(['patent_doc_kind']).size().reset_index(name='count')\n",
    "json_kind= df_kind.to_json(orient='records')\n",
    "\n",
    "df_no_of_claims = df_all.groupby(['number_of_claims']).size().reset_index(name='count')\n",
    "json_no_of_claims= df_no_of_claims.to_json(orient='records')\n",
    "\n",
    "outputfilename = '/home/ubuntu/data/models_data/chartdatafiles/chart_cluster_data_all_years.csv' \n",
    "with open(outputfilename, \"w\") as chart_file:\n",
    "    chart_file.write(json_publ_years + '\\n' + json_appl_years + '\\n' + json_grant_years +  '\\n' + \n",
    "                    json_years + '\\n' +json_years_grant + '\\n' + json_kind + '\\n' + json_appl_change_count + '\\n' + json_no_of_claims)\n"
   ]
  },
  {
   "cell_type": "code",
   "execution_count": 86,
   "metadata": {
    "collapsed": false
   },
   "outputs": [
    {
     "name": "stdout",
     "output_type": "stream",
     "text": [
      "[{\"pub_year\":2005,\"count\":289051},{\"pub_year\":2006,\"count\":282012},{\"pub_year\":2007,\"count\":299485},{\"pub_year\":2008,\"count\":319807},{\"pub_year\":2009,\"count\":327418},{\"pub_year\":2010,\"count\":332383},{\"pub_year\":2011,\"count\":320309},{\"pub_year\":2012,\"count\":330594},{\"pub_year\":2013,\"count\":345949},{\"pub_year\":2014,\"count\":378841},{\"pub_year\":2015,\"count\":380897},{\"pub_year\":2016,\"count\":379758},{\"pub_year\":2017,\"count\":330706}]\r\n",
      "[{\"appl_year\":1909,\"count\":1},{\"appl_year\":1911,\"count\":1},{\"appl_year\":1913,\"count\":1},{\"appl_year\":1991,\"count\":1},{\"appl_year\":1994,\"count\":2},{\"appl_year\":1995,\"count\":5},{\"appl_year\":1996,\"count\":7},{\"appl_year\":1997,\"count\":5},{\"appl_year\":1998,\"count\":4},{\"appl_year\":1999,\"count\":17},{\"appl_year\":2000,\"count\":131},{\"appl_year\":2001,\"count\":2507},{\"appl_year\":2002,\"count\":14376},{\"appl_year\":2003,\"count\":88930},{\"appl_year\":2004,\"count\":227917},{\"appl_year\":2005,\"count\":301574},{\"appl_year\":2006,\"count\":321336},{\"appl_year\":2007,\"count\":326925},{\"appl_year\":2008,\"count\":315832},{\"appl_year\":2009,\"count\":295356},{\"appl_year\":2010,\"count\":307140},{\"appl_year\":2011,\"count\":331500},{\"appl_year\":2012,\"count\":352881},{\"appl_year\":2013,\"count\":371713},{\"appl_year\":2014,\"count\":376794},{\"appl_year\":2015,\"count\":351824},{\"appl_year\":2016,\"count\":242460},{\"appl_year\":2017,\"count\":87970}]\r\n",
      "[{\"grant_year\":2005,\"count\":12416},{\"grant_year\":2006,\"count\":58308},{\"grant_year\":2007,\"count\":89609},{\"grant_year\":2008,\"count\":115182},{\"grant_year\":2009,\"count\":138216},{\"grant_year\":2010,\"count\":192973},{\"grant_year\":2011,\"count\":204001},{\"grant_year\":2012,\"count\":233406},{\"grant_year\":2013,\"count\":255823},{\"grant_year\":2014,\"count\":277698},{\"grant_year\":2015,\"count\":276229},{\"grant_year\":2016,\"count\":278962},{\"grant_year\":2017,\"count\":272739},{\"grant_year\":\"\",\"count\":1911648}]\r\n",
      "[{\"years_to_publish\":0.0,\"count\":74},{\"years_to_publish\":0.5,\"count\":2055770},{\"years_to_publish\":1.0,\"count\":380955},{\"years_to_publish\":1.5,\"count\":1042056},{\"years_to_publish\":2.0,\"count\":473606},{\"years_to_publish\":2.5,\"count\":172712},{\"years_to_publish\":3.0,\"count\":121410},{\"years_to_publish\":3.5,\"count\":39660},{\"years_to_publish\":4.0,\"count\":17483},{\"years_to_publish\":4.5,\"count\":6599},{\"years_to_publish\":5.0,\"count\":2921},{\"years_to_publish\":5.5,\"count\":1508},{\"years_to_publish\":6.0,\"count\":863},{\"years_to_publish\":6.5,\"count\":533},{\"years_to_publish\":7.0,\"count\":309},{\"years_to_publish\":7.5,\"count\":248},{\"years_to_publish\":8.0,\"count\":174},{\"years_to_publish\":8.5,\"count\":78},{\"years_to_publish\":9.0,\"count\":83},{\"years_to_publish\":9.5,\"count\":50},{\"years_to_publish\":10.0,\"count\":33},{\"years_to_publish\":10.5,\"count\":23},{\"years_to_publish\":11.0,\"count\":11},{\"years_to_publish\":11.5,\"count\":14},{\"years_to_publish\":12.0,\"count\":15},{\"years_to_publish\":12.5,\"count\":4},{\"years_to_publish\":13.0,\"count\":2},{\"years_to_publish\":13.5,\"count\":3},{\"years_to_publish\":14.0,\"count\":1},{\"years_to_publish\":14.5,\"count\":5},{\"years_to_publish\":15.0,\"count\":3},{\"years_to_publish\":15.5,\"count\":1},{\"years_to_publish\":99.0,\"count\":1},{\"years_to_publish\":100.0,\"count\":2}]\r\n",
      "[{\"years_to_grant\":0.0,\"count\":54},{\"years_to_grant\":0.5,\"count\":38112},{\"years_to_grant\":1.0,\"count\":138195},{\"years_to_grant\":1.5,\"count\":233907},{\"years_to_grant\":2.0,\"count\":308127},{\"years_to_grant\":2.5,\"count\":331197},{\"years_to_grant\":3.0,\"count\":317136},{\"years_to_grant\":3.5,\"count\":268625},{\"years_to_grant\":4.0,\"count\":214378},{\"years_to_grant\":4.5,\"count\":163428},{\"years_to_grant\":5.0,\"count\":121311},{\"years_to_grant\":5.5,\"count\":84829},{\"years_to_grant\":6.0,\"count\":59102},{\"years_to_grant\":6.5,\"count\":39515},{\"years_to_grant\":7.0,\"count\":27713},{\"years_to_grant\":7.5,\"count\":19245},{\"years_to_grant\":8.0,\"count\":13324},{\"years_to_grant\":8.5,\"count\":9238},{\"years_to_grant\":9.0,\"count\":6339},{\"years_to_grant\":9.5,\"count\":4344},{\"years_to_grant\":10.0,\"count\":2865},{\"years_to_grant\":10.5,\"count\":1883},{\"years_to_grant\":11.0,\"count\":1149},{\"years_to_grant\":11.5,\"count\":702},{\"years_to_grant\":12.0,\"count\":395},{\"years_to_grant\":12.5,\"count\":207},{\"years_to_grant\":13.0,\"count\":121},{\"years_to_grant\":13.5,\"count\":75},{\"years_to_grant\":14.0,\"count\":25},{\"years_to_grant\":14.5,\"count\":11},{\"years_to_grant\":15.0,\"count\":4},{\"years_to_grant\":15.5,\"count\":3},{\"years_to_grant\":16.0,\"count\":1},{\"years_to_grant\":16.5,\"count\":1},{\"years_to_grant\":20.5,\"count\":1}]\r\n",
      "[{\"patent_doc_kind\":\"B1\",\"count\":21654},{\"patent_doc_kind\":\"B2\",\"count\":2378964},{\"patent_doc_kind\":\"E1\",\"count\":8},{\"patent_doc_kind\":\"H1\",\"count\":43},{\"patent_doc_kind\":\"P2\",\"count\":666},{\"patent_doc_kind\":\"P3\",\"count\":4227}]\r\n",
      "[{\"appl_change_count\":1,\"count\":4317210}]\r\n",
      "[{\"number_of_claims\":0.0,\"count\":230083},{\"number_of_claims\":10.0,\"count\":843063},{\"number_of_claims\":20.0,\"count\":1067876},{\"number_of_claims\":30.0,\"count\":164356},{\"number_of_claims\":40.0,\"count\":61590},{\"number_of_claims\":50.0,\"count\":18972},{\"number_of_claims\":60.0,\"count\":9931},{\"number_of_claims\":70.0,\"count\":3859},{\"number_of_claims\":80.0,\"count\":2456},{\"number_of_claims\":90.0,\"count\":1128},{\"number_of_claims\":100.0,\"count\":798},{\"number_of_claims\":110.0,\"count\":417},{\"number_of_claims\":120.0,\"count\":308},{\"number_of_claims\":130.0,\"count\":179},{\"number_of_claims\":140.0,\"count\":153},{\"number_of_claims\":150.0,\"count\":79},{\"number_of_claims\":160.0,\"count\":78},{\"number_of_claims\":170.0,\"count\":52},{\"number_of_claims\":180.0,\"count\":39},{\"number_of_claims\":190.0,\"count\":31},{\"number_of_claims\":200.0,\"count\":32},{\"number_of_claims\":210.0,\"count\":9},{\"number_of_claims\":220.0,\"count\":13},{\"number_of_claims\":230.0,\"count\":11},{\"number_of_claims\":240.0,\"count\":8},{\"number_of_claims\":250.0,\"count\":2},{\"number_of_claims\":260.0,\"count\":2},{\"number_of_claims\":270.0,\"count\":4},{\"number_of_claims\":280.0,\"count\":4},{\"number_of_claims\":290.0,\"count\":2},{\"number_of_claims\":300.0,\"count\":3},{\"number_of_claims\":310.0,\"count\":5},{\"number_of_claims\":320.0,\"count\":3},{\"number_of_claims\":330.0,\"count\":5},{\"number_of_claims\":360.0,\"count\":1},{\"number_of_claims\":370.0,\"count\":2},{\"number_of_claims\":380.0,\"count\":2},{\"number_of_claims\":390.0,\"count\":1},{\"number_of_claims\":400.0,\"count\":3},{\"number_of_claims\":490.0,\"count\":1},{\"number_of_claims\":540.0,\"count\":1}]"
     ]
    }
   ],
   "source": [
    "!cat /home/ubuntu/data/models_data/chartdatafiles/chart_cluster_data_all_years.csv"
   ]
  },
  {
   "cell_type": "code",
   "execution_count": 87,
   "metadata": {
    "collapsed": true
   },
   "outputs": [],
   "source": [
    "#Copy files to S3\n",
    "#!aws s3 cp /home/ubuntu/data/models_data/chartdatafiles/ s3://ncw210data/NewClusterFiles/chartdatafiles/  --recursive --only-show-errors"
   ]
  },
  {
   "cell_type": "code",
   "execution_count": 88,
   "metadata": {
    "collapsed": true
   },
   "outputs": [],
   "source": [
    "#!aws s3 cp /home/ubuntu/data/models_data/chartdatafiles/ s3://ncw210data/FullTextDataClusters/  --recursive --only-show-errors"
   ]
  },
  {
   "cell_type": "code",
   "execution_count": 68,
   "metadata": {
    "collapsed": false
   },
   "outputs": [],
   "source": [
    "#For test only\n",
    "# p = 9\n",
    "# c = 3\n",
    "# filename = '/home/ubuntu/data/models_data/smalldatafiles/small_cluster_data_'+ str(p) + '_' +str(c) + '.csv' \n",
    "# create_charts_data_for_small_files(filename,p,c)"
   ]
  },
  {
   "cell_type": "code",
   "execution_count": 70,
   "metadata": {
    "collapsed": false
   },
   "outputs": [],
   "source": [
    "#!cat /home/ubuntu/data/models_data/chartdatafiles/chart_cluster_data_9_3.csv"
   ]
  },
  {
   "cell_type": "code",
   "execution_count": null,
   "metadata": {
    "collapsed": true
   },
   "outputs": [],
   "source": []
  }
 ],
 "metadata": {
  "anaconda-cloud": {},
  "kernelspec": {
   "display_name": "Python [Root]",
   "language": "python",
   "name": "Python [Root]"
  },
  "language_info": {
   "codemirror_mode": {
    "name": "ipython",
    "version": 3
   },
   "file_extension": ".py",
   "mimetype": "text/x-python",
   "name": "python",
   "nbconvert_exporter": "python",
   "pygments_lexer": "ipython3",
   "version": "3.5.2"
  }
 },
 "nbformat": 4,
 "nbformat_minor": 2
}
