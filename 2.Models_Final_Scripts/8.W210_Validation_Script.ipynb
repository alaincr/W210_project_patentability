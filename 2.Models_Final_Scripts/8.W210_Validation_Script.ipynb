{
 "cells": [
  {
   "cell_type": "code",
   "execution_count": 1,
   "metadata": {
    "collapsed": true
   },
   "outputs": [],
   "source": [
    "import nltk\n",
    "import re\n",
    "sb_stemmer = nltk.stem.SnowballStemmer('english')\n",
    "\n",
    "def tokenize_and_stem(text):\n",
    "    text_stem = ''\n",
    "    for word in text.lower().split():\n",
    "        if text_stem:\n",
    "            text_stem =  text_stem + ' ' + sb_stemmer.stem(word)\n",
    "        else:\n",
    "            text_stem = sb_stemmer.stem(word)\n",
    "    return text_stem\n",
    "\n",
    "\n",
    "def clean_stem(string):\n",
    "    stopwords = {'back', 'thru', 'eg', 'hereafter', 'too', 'part', 'which', 'will', 'be', 'thereupon', 'about', 'nevertheless', 'therein', 'through', 'we', 'among', 'in', 'then', 'former', 'via', 'below', 'whereafter', 'due', 'you', 'bill', 'forty', 'few', 'not', 'with', 'rather', 'next', 'nine', 'me', 'its', 'sometime', 'yours', 'who', 'whoever', 'down', 'some', 'such', 'thereafter', 'hasnt', 'fifteen', 'both', 'as', 'ever', 'could', 'find', 'hence', 'something', 'a', 'there', 'mostly', 'whereas', 'many', 'serious', 'can', 'indeed', 'afterwards', 'whenever', 'by', 'becomes', 'may', 'after', 'couldnt', 'seemed', 'anyhow', 'etc', 'might', 'already', 'no', 'please', 'them', 'myself', 'therefore', 'from', 'along', 'ltd', 'against', 'everywhere', 'amoungst', 'because', 'where', 'sixty', 'ie', 'although', 'sincere', 'move', 'seeming', 'or', 'wherever', 'inc', 'whatever', 'into', 'anywhere', 'around', 'nor', 'see', 'several', 'sometimes', 'for', 'interest', 'beyond', 'whether', 'detail', 'describe', 'moreover', 'nobody', 'whereupon', 're', 'without', 'an', 'ours', 'perhaps', 'only', 'five', 'towards', 'keep', 'eleven', 'one', 'other', 'any', 'otherwise', 'except', 'that', 'cannot', 'behind', 'ourselves', 'under', 'within', 'fifty', 'across', 'if', 'thus', 'per', 'wherein', 'here', 'empty', 'co', 'still', 'whole', 'how', 'off', 'to', 'yourself', 'call', 'cry', 'four', 'so', 'she', 'take', 'their', 'been', 'now', 'even', 'mill', 'what', 'another', 'namely', 'always', 'themselves', 'almost', 'six', 'formerly', 'ten', 'found', 'onto', 'yet', 'between', 'give', 'hers', 'herein', 'eight', 'above', 'anyway', 'third', 'himself', 'front', 'over', 'two', 'much', 'latter', 'itself', 'besides', 'those', 'on', 'twenty', 'up', 'us', 'amongst', 'beforehand', 'but', 'most', 'same', 'mine', 'should', 'this', 'full', 'herself', 'her', 'thick', 'con', 'everything', 'is', 'am', 'three', 'throughout', 'again', 'enough', 'your', 'once', 'hereupon', 'become', 'yourselves', 'everyone', 'before', 'i', 'whereby', 'others', 'must', 'seems', 'elsewhere', 'were', 'either', 'would', 'became', 'hundred', 'toward', 'very', 'latterly', 'top', 'often', 'beside', 'cant', 'else', 'the', 'however', 'and', 'somehow', 'him', 'noone', 'somewhere', 'our', 'nothing', 'de', 'fill', 'well', 'it', 'all', 'last', 'do', 'these', 'has', 'upon', 'every', 'side', 'system', 'put', 'thence', 'twelve', 'becoming', 'show', 'un', 'least', 'of', 'have', 'own', 'since', 'though', 'whither', 'out', 'hereby', 'meanwhile', 'none', 'while', 'whom', 'further', 'why', 'made', 'whose', 'my', 'someone', 'they', 'during', 'anyone', 'first', 'go', 'less', 'his', 'anything', 'thereby', 'amount', 'together', 'never', 'was', 'thin', 'also', 'each', 'fire', 'are', 'when', 'alone', 'had', 'until', 'done', 'more', 'at', 'than', 'nowhere', 'seem', 'whence', 'name', 'neither', 'he', 'get', 'being', 'bottom'}\n",
    "    #strip and change to lower case and replace commas and semi colons with spaces\n",
    "    stem = string.strip().lower().replace(';', ' ').replace(',', ' ').replace(':', ' ').replace('(',' ').replace(')',' ').replace('#', ' ').replace('.', ' ').strip()\n",
    "         \n",
    "    # remove words that only have numbers( second one removes special characters also)\n",
    "    stem = re.sub(r'\\b\\d+\\b', ' ',stem).strip()\n",
    "    \n",
    "    #remove special characters at the end of words\n",
    "    stem = re.sub(r'([^\\w\\s]|_)+(?=\\s|$)', ' ',stem).strip()\n",
    "    \n",
    "    #remove any words that have a number in it ( even if in the middle )\n",
    "    stem = re.sub(r'\\w*\\d\\w*', ' ',stem).strip()\n",
    "    \n",
    "    # remove any words with only one alphabet\n",
    "    stem = re.sub(r'\\b[a-zA-Z]\\b', ' ',stem).strip()\n",
    "    \n",
    "    # remove stop words and change to lower case\n",
    "    stem = ' '.join([item for item in (stem.strip().split()) if item not in stopwords])\n",
    "    \n",
    "    # get words greater than length 4 and less than 25\n",
    "    stem = ' '.join([item for item in (re.findall('\\w{4,25}', stem))])\n",
    "    #re.findall('\\w{4,25}', stem).join(' ').strip() \n",
    "    \n",
    "     #apply stemming for all words\n",
    "    stem = tokenize_and_stem(stem)\n",
    "    return stem\n",
    "\n",
    "#query for first level cluster and then second level cluster\n",
    "import pickle\n",
    "from sklearn.feature_extraction.text import TfidfVectorizer\n",
    "from sklearn.feature_extraction import stop_words\n",
    "from sklearn.feature_extraction import text\n",
    "import pandas as pd\n",
    "from scipy import spatial\n",
    "import nltk\n",
    "from string import printable\n",
    "sb_stemmer = nltk.stem.SnowballStemmer('english')\n",
    "\n",
    "my_words = ['','()','(),']\n",
    "my_stop_words = text.ENGLISH_STOP_WORDS.union(my_words)\n",
    "\n",
    "def tokenize(doc):\n",
    "    return doc.lower().split(\" \")\n",
    "\n",
    "def query_first_level_cluster(query_string):\n",
    "    #find first level cluster\n",
    "    nmf_filename = '/home/ubuntu/data/models_data/nmfmodels/nmf_model_X.sav'\n",
    "    tfidf_filename = '/home/ubuntu/data/models_data/tfidfmodels/tfidf_model_X.sav'\n",
    "    # load the model from disk\n",
    "    loaded_nmf_model = pickle.load(open(nmf_filename, 'rb'))\n",
    "    loaded_tfidf_model = pickle.load(open(tfidf_filename, 'rb'))\n",
    "\n",
    "    query_string_pr_stem = clean_stem(query_string)\n",
    "\n",
    "    query_tfidf = loaded_tfidf_model.transform([query_string_pr_stem])\n",
    "    nmf_query = loaded_nmf_model.transform(query_tfidf)\n",
    "    # print(nmf_query)\n",
    "    # nmf_query.argmax(axis=1)\n",
    "    return(nmf_query.argmax(axis=1)[0])\n",
    "\n",
    "def query_second_level_cluster(query_string, first_level_cluster):\n",
    "    #find second level cluster\n",
    "    nmf_filename = '/home/ubuntu/data/models_data/nmfmodels/nmf_model_' + str(first_level_cluster) + '.sav'\n",
    "    tfidf_filename = '/home/ubuntu/data/models_data/tfidfmodels/tfidf_model_' + str(first_level_cluster) + '.sav' \n",
    "    # load the model from disk\n",
    "    loaded_nmf_model = pickle.load(open(nmf_filename, 'rb'))\n",
    "    loaded_tfidf_model = pickle.load(open(tfidf_filename, 'rb'))\n",
    "    \n",
    "    query_string_pr_stem = clean_stem(query_string)\n",
    "    \n",
    "    query_tfidf = loaded_tfidf_model.transform([query_string_pr_stem])\n",
    "    nmf_query = loaded_nmf_model.transform(query_tfidf)\n",
    "    # print(nmf_query)\n",
    "    # nmf_query.argmax(axis=1)\n",
    "    return(nmf_query.argmax(axis=1)[0])\n",
    "\n",
    "def query_similarities(query_string, first_level_cluster,second_level_cluster,cosine_sim_threshold,top):\n",
    "    #find top similarities for a given cluster combo\n",
    "    \n",
    "    filename = '/home/ubuntu/data/models_data/smalldatafiles/small_cluster_data_' + str(first_level_cluster) + '_' + str(second_level_cluster) + '.csv'\n",
    "    tfidf_model_filename = '/home/ubuntu/data/models_data/tfidfmodels/tfidf_model_' + str(first_level_cluster) + '_' + str(second_level_cluster) + '.sav'\n",
    "    tfidf_filename = '/home/ubuntu/data/models_data/tfidfmodels/tfidf_' + str(first_level_cluster) + '_' + str(second_level_cluster) + '.sav'\n",
    "\n",
    "    df_data = pd.read_csv(filename,usecols = ['appl_doc_number', 'appl_doc_number', 'invention_title','abstract','claim_text','patent_number'])\n",
    "    loaded_tfidf_vectorizer = pickle.load(open(tfidf_model_filename, 'rb'))\n",
    "    loaded_tfidf = pickle.load(open(tfidf_filename, 'rb'))\n",
    "    \n",
    "    \n",
    "    query_tfidf = loaded_tfidf_vectorizer.transform([query_string])\n",
    "\n",
    "    df_result = pd.DataFrame(columns=['cosine_similarity', 'appl_doc_number','invention_title','abstract','claim_text','patent_number'])\n",
    "\n",
    "    # get the result and add to a new dataframe\n",
    "    loc_index = 0\n",
    "    patent_query = query_tfidf.toarray()[0]\n",
    "    for index_corpus, patent_corpus in enumerate(loaded_tfidf.toarray()):\n",
    "        #cosine_sim = cosine_similarity(patent_query, patent_corpus)\n",
    "        cosine_sim = 1 - spatial.distance.cosine(patent_query, patent_corpus)\n",
    "        if cosine_sim > cosine_sim_threshold:\n",
    "            #res_row = df_data.iloc[index_corpus]\n",
    "            df_result.loc[loc_index] = [cosine_sim,df_data.iloc[index_corpus]['appl_doc_number'],df_data.iloc[index_corpus]['invention_title'],df_data.iloc[index_corpus]['abstract'],df_data.iloc[index_corpus]['claim_text'],df_data.iloc[index_corpus]['patent_number']]\n",
    "            #df_result.loc[loc_index] = [cosine_sim,res_row['appl_doc_number'],res_row['invention_title'],res_row['abstract'],res_row['claim_text'],res_row['patent_number']]\n",
    "            \n",
    "            loc_index += 1\n",
    "\n",
    "    # sort the results and pick top results        \n",
    "    df_result = df_result.sort_values('cosine_similarity',ascending=[False])\n",
    "       \n",
    "    df_result = df_result[:top]\n",
    "    \n",
    "    #remove any non-printable characters\n",
    "    df_result['abstract'] = df_result['abstract'].apply(lambda x: re.sub(r'[^\\x00-\\x7f]',r'', x))\n",
    "    df_result['abstract'] = df_result['abstract'].apply(lambda x: x.replace(\" &#8216\", '').replace(\" &#8217\", ''))\n",
    "    df_result['claim_text'] = df_result['claim_text'].apply(lambda x: re.sub(r'[^\\x00-\\x7f]',r'', x))\n",
    "    df_result['claim_text'] = df_result['claim_text'].apply(lambda x: x.replace(\"&#8216;\", ' ').replace(\"&#8217;\", ' '))\n",
    " \n",
    "    return(df_result)\n",
    "\n",
    "def query_wrapper(query_string,cosine_sim_threshold,top):\n",
    "    first_cluster = query_first_level_cluster(query_string)\n",
    "    second_cluster = query_second_level_cluster(query_string,first_cluster)\n",
    "    df_result = query_similarities(query_string,first_cluster,second_cluster,cosine_sim_threshold,top)\n",
    "    return df_result,first_cluster,second_cluster"
   ]
  },
  {
   "cell_type": "code",
   "execution_count": 2,
   "metadata": {
    "collapsed": false
   },
   "outputs": [],
   "source": [
    "import os\n",
    "import sys\n",
    "\n",
    "#import findspark\n",
    "#findspark.init()\n",
    "\n",
    "import pyspark\n",
    "sc = pyspark.SparkContext(appName=\"myAppName\")"
   ]
  },
  {
   "cell_type": "code",
   "execution_count": 3,
   "metadata": {
    "collapsed": true
   },
   "outputs": [],
   "source": [
    "from pyspark.sql import SQLContext\n",
    "sqlContext = SQLContext(sc)\n",
    "df = sqlContext.read.csv( path = \"file:///home/ubuntu//data/priorartoutput/smalldata_for_validation.csv\",header = True,inferSchema = True)"
   ]
  },
  {
   "cell_type": "code",
   "execution_count": 4,
   "metadata": {
    "collapsed": true
   },
   "outputs": [],
   "source": [
    "#result = df.select(\"claim_text\").filter(df[\"appl_doc_number\"] == 13698956).collect()"
   ]
  },
  {
   "cell_type": "code",
   "execution_count": 5,
   "metadata": {
    "collapsed": false
   },
   "outputs": [],
   "source": [
    "recs = pd.read_csv(\"/home/ubuntu/data/priorartoutput/priorart_data_for_validation_2014.csv\")"
   ]
  },
  {
   "cell_type": "code",
   "execution_count": 6,
   "metadata": {
    "collapsed": true
   },
   "outputs": [],
   "source": [
    "from difflib import SequenceMatcher\n",
    "def similar(a, b):\n",
    "    return SequenceMatcher(None, a, b).ratio()"
   ]
  },
  {
   "cell_type": "code",
   "execution_count": 14,
   "metadata": {
    "collapsed": false
   },
   "outputs": [
    {
     "name": "stdout",
     "output_type": "stream",
     "text": [
      "13942788\n",
      "0.0\n",
      "12935173\n",
      "0.0\n",
      "11182087\n",
      "0.0\n",
      "13123596\n",
      "0.0\n"
     ]
    },
    {
     "name": "stderr",
     "output_type": "stream",
     "text": [
      "/home/ubuntu/anaconda3/lib/python3.5/site-packages/IPython/core/interactiveshell.py:2885: DtypeWarning: Columns (22) have mixed types. Specify dtype option on import or set low_memory=False.\n",
      "  exec(code_obj, self.user_global_ns, self.user_ns)\n"
     ]
    },
    {
     "name": "stdout",
     "output_type": "stream",
     "text": [
      "12115994\n",
      "0.0\n",
      "12836891\n",
      "0.0\n"
     ]
    },
    {
     "ename": "MemoryError",
     "evalue": "",
     "output_type": "error",
     "traceback": [
      "\u001b[1;31m---------------------------------------------------------------------------\u001b[0m",
      "\u001b[1;31mMemoryError\u001b[0m                               Traceback (most recent call last)",
      "\u001b[1;32m<ipython-input-14-4ce1224806ce>\u001b[0m in \u001b[0;36m<module>\u001b[1;34m()\u001b[0m\n\u001b[0;32m     12\u001b[0m         \u001b[1;32mbreak\u001b[0m\u001b[1;33m\u001b[0m\u001b[0m\n\u001b[0;32m     13\u001b[0m     \u001b[0mquery_string\u001b[0m \u001b[1;33m=\u001b[0m \u001b[0mdf\u001b[0m\u001b[1;33m.\u001b[0m\u001b[0mselect\u001b[0m\u001b[1;33m(\u001b[0m\u001b[1;34m\"claim_text\"\u001b[0m\u001b[1;33m)\u001b[0m\u001b[1;33m.\u001b[0m\u001b[0mfilter\u001b[0m\u001b[1;33m(\u001b[0m\u001b[0mdf\u001b[0m\u001b[1;33m[\u001b[0m\u001b[1;34m\"appl_doc_number\"\u001b[0m\u001b[1;33m]\u001b[0m \u001b[1;33m==\u001b[0m \u001b[0mapp\u001b[0m\u001b[1;33m)\u001b[0m\u001b[1;33m.\u001b[0m\u001b[0mcollect\u001b[0m\u001b[1;33m(\u001b[0m\u001b[1;33m)\u001b[0m\u001b[1;33m\u001b[0m\u001b[0m\n\u001b[1;32m---> 14\u001b[1;33m     \u001b[0mresult\u001b[0m \u001b[1;33m=\u001b[0m \u001b[0mquery_wrapper\u001b[0m\u001b[1;33m(\u001b[0m\u001b[0mstr\u001b[0m\u001b[1;33m(\u001b[0m\u001b[0mquery_string\u001b[0m\u001b[1;33m[\u001b[0m\u001b[1;36m0\u001b[0m\u001b[1;33m]\u001b[0m\u001b[1;33m)\u001b[0m\u001b[1;33m,\u001b[0m\u001b[1;36m0.1\u001b[0m\u001b[1;33m,\u001b[0m\u001b[1;36m200\u001b[0m\u001b[1;33m)\u001b[0m\u001b[1;33m\u001b[0m\u001b[0m\n\u001b[0m\u001b[0;32m     15\u001b[0m     \u001b[0mlista\u001b[0m \u001b[1;33m=\u001b[0m \u001b[0mlist\u001b[0m\u001b[1;33m(\u001b[0m\u001b[0mresult\u001b[0m\u001b[1;33m[\u001b[0m\u001b[1;36m0\u001b[0m\u001b[1;33m]\u001b[0m\u001b[1;33m[\u001b[0m\u001b[1;34m'patent_number'\u001b[0m\u001b[1;33m]\u001b[0m\u001b[1;33m)\u001b[0m\u001b[1;33m\u001b[0m\u001b[0m\n\u001b[0;32m     16\u001b[0m     \u001b[1;31m#csvwrite['model_result'] = lista\u001b[0m\u001b[1;33m\u001b[0m\u001b[1;33m\u001b[0m\u001b[0m\n",
      "\u001b[1;32m<ipython-input-1-c495316d7655>\u001b[0m in \u001b[0;36mquery_wrapper\u001b[1;34m(query_string, cosine_sim_threshold, top)\u001b[0m\n\u001b[0;32m    135\u001b[0m     \u001b[0mfirst_cluster\u001b[0m \u001b[1;33m=\u001b[0m \u001b[0mquery_first_level_cluster\u001b[0m\u001b[1;33m(\u001b[0m\u001b[0mquery_string\u001b[0m\u001b[1;33m)\u001b[0m\u001b[1;33m\u001b[0m\u001b[0m\n\u001b[0;32m    136\u001b[0m     \u001b[0msecond_cluster\u001b[0m \u001b[1;33m=\u001b[0m \u001b[0mquery_second_level_cluster\u001b[0m\u001b[1;33m(\u001b[0m\u001b[0mquery_string\u001b[0m\u001b[1;33m,\u001b[0m\u001b[0mfirst_cluster\u001b[0m\u001b[1;33m)\u001b[0m\u001b[1;33m\u001b[0m\u001b[0m\n\u001b[1;32m--> 137\u001b[1;33m     \u001b[0mdf_result\u001b[0m \u001b[1;33m=\u001b[0m \u001b[0mquery_similarities\u001b[0m\u001b[1;33m(\u001b[0m\u001b[0mquery_string\u001b[0m\u001b[1;33m,\u001b[0m\u001b[0mfirst_cluster\u001b[0m\u001b[1;33m,\u001b[0m\u001b[0msecond_cluster\u001b[0m\u001b[1;33m,\u001b[0m\u001b[0mcosine_sim_threshold\u001b[0m\u001b[1;33m,\u001b[0m\u001b[0mtop\u001b[0m\u001b[1;33m)\u001b[0m\u001b[1;33m\u001b[0m\u001b[0m\n\u001b[0m\u001b[0;32m    138\u001b[0m     \u001b[1;32mreturn\u001b[0m \u001b[0mdf_result\u001b[0m\u001b[1;33m,\u001b[0m\u001b[0mfirst_cluster\u001b[0m\u001b[1;33m,\u001b[0m\u001b[0msecond_cluster\u001b[0m\u001b[1;33m\u001b[0m\u001b[0m\n",
      "\u001b[1;32m<ipython-input-1-c495316d7655>\u001b[0m in \u001b[0;36mquery_similarities\u001b[1;34m(query_string, first_level_cluster, second_level_cluster, cosine_sim_threshold, top)\u001b[0m\n\u001b[0;32m    109\u001b[0m     \u001b[0mloc_index\u001b[0m \u001b[1;33m=\u001b[0m \u001b[1;36m0\u001b[0m\u001b[1;33m\u001b[0m\u001b[0m\n\u001b[0;32m    110\u001b[0m     \u001b[0mpatent_query\u001b[0m \u001b[1;33m=\u001b[0m \u001b[0mquery_tfidf\u001b[0m\u001b[1;33m.\u001b[0m\u001b[0mtoarray\u001b[0m\u001b[1;33m(\u001b[0m\u001b[1;33m)\u001b[0m\u001b[1;33m[\u001b[0m\u001b[1;36m0\u001b[0m\u001b[1;33m]\u001b[0m\u001b[1;33m\u001b[0m\u001b[0m\n\u001b[1;32m--> 111\u001b[1;33m     \u001b[1;32mfor\u001b[0m \u001b[0mindex_corpus\u001b[0m\u001b[1;33m,\u001b[0m \u001b[0mpatent_corpus\u001b[0m \u001b[1;32min\u001b[0m \u001b[0menumerate\u001b[0m\u001b[1;33m(\u001b[0m\u001b[0mloaded_tfidf\u001b[0m\u001b[1;33m.\u001b[0m\u001b[0mtoarray\u001b[0m\u001b[1;33m(\u001b[0m\u001b[1;33m)\u001b[0m\u001b[1;33m)\u001b[0m\u001b[1;33m:\u001b[0m\u001b[1;33m\u001b[0m\u001b[0m\n\u001b[0m\u001b[0;32m    112\u001b[0m         \u001b[1;31m#cosine_sim = cosine_similarity(patent_query, patent_corpus)\u001b[0m\u001b[1;33m\u001b[0m\u001b[1;33m\u001b[0m\u001b[0m\n\u001b[0;32m    113\u001b[0m         \u001b[0mcosine_sim\u001b[0m \u001b[1;33m=\u001b[0m \u001b[1;36m1\u001b[0m \u001b[1;33m-\u001b[0m \u001b[0mspatial\u001b[0m\u001b[1;33m.\u001b[0m\u001b[0mdistance\u001b[0m\u001b[1;33m.\u001b[0m\u001b[0mcosine\u001b[0m\u001b[1;33m(\u001b[0m\u001b[0mpatent_query\u001b[0m\u001b[1;33m,\u001b[0m \u001b[0mpatent_corpus\u001b[0m\u001b[1;33m)\u001b[0m\u001b[1;33m\u001b[0m\u001b[0m\n",
      "\u001b[1;32m/home/ubuntu/anaconda3/lib/python3.5/site-packages/scipy/sparse/compressed.py\u001b[0m in \u001b[0;36mtoarray\u001b[1;34m(self, order, out)\u001b[0m\n\u001b[0;32m    941\u001b[0m         \u001b[1;32mif\u001b[0m \u001b[0mout\u001b[0m \u001b[1;32mis\u001b[0m \u001b[1;32mNone\u001b[0m \u001b[1;32mand\u001b[0m \u001b[0morder\u001b[0m \u001b[1;32mis\u001b[0m \u001b[1;32mNone\u001b[0m\u001b[1;33m:\u001b[0m\u001b[1;33m\u001b[0m\u001b[0m\n\u001b[0;32m    942\u001b[0m             \u001b[0morder\u001b[0m \u001b[1;33m=\u001b[0m \u001b[0mself\u001b[0m\u001b[1;33m.\u001b[0m\u001b[0m_swap\u001b[0m\u001b[1;33m(\u001b[0m\u001b[1;34m'cf'\u001b[0m\u001b[1;33m)\u001b[0m\u001b[1;33m[\u001b[0m\u001b[1;36m0\u001b[0m\u001b[1;33m]\u001b[0m\u001b[1;33m\u001b[0m\u001b[0m\n\u001b[1;32m--> 943\u001b[1;33m         \u001b[0mout\u001b[0m \u001b[1;33m=\u001b[0m \u001b[0mself\u001b[0m\u001b[1;33m.\u001b[0m\u001b[0m_process_toarray_args\u001b[0m\u001b[1;33m(\u001b[0m\u001b[0morder\u001b[0m\u001b[1;33m,\u001b[0m \u001b[0mout\u001b[0m\u001b[1;33m)\u001b[0m\u001b[1;33m\u001b[0m\u001b[0m\n\u001b[0m\u001b[0;32m    944\u001b[0m         \u001b[1;32mif\u001b[0m \u001b[1;32mnot\u001b[0m \u001b[1;33m(\u001b[0m\u001b[0mout\u001b[0m\u001b[1;33m.\u001b[0m\u001b[0mflags\u001b[0m\u001b[1;33m.\u001b[0m\u001b[0mc_contiguous\u001b[0m \u001b[1;32mor\u001b[0m \u001b[0mout\u001b[0m\u001b[1;33m.\u001b[0m\u001b[0mflags\u001b[0m\u001b[1;33m.\u001b[0m\u001b[0mf_contiguous\u001b[0m\u001b[1;33m)\u001b[0m\u001b[1;33m:\u001b[0m\u001b[1;33m\u001b[0m\u001b[0m\n\u001b[0;32m    945\u001b[0m             \u001b[1;32mraise\u001b[0m \u001b[0mValueError\u001b[0m\u001b[1;33m(\u001b[0m\u001b[1;34m'Output array must be C or F contiguous'\u001b[0m\u001b[1;33m)\u001b[0m\u001b[1;33m\u001b[0m\u001b[0m\n",
      "\u001b[1;32m/home/ubuntu/anaconda3/lib/python3.5/site-packages/scipy/sparse/base.py\u001b[0m in \u001b[0;36m_process_toarray_args\u001b[1;34m(self, order, out)\u001b[0m\n\u001b[0;32m   1128\u001b[0m             \u001b[1;32mreturn\u001b[0m \u001b[0mout\u001b[0m\u001b[1;33m\u001b[0m\u001b[0m\n\u001b[0;32m   1129\u001b[0m         \u001b[1;32melse\u001b[0m\u001b[1;33m:\u001b[0m\u001b[1;33m\u001b[0m\u001b[0m\n\u001b[1;32m-> 1130\u001b[1;33m             \u001b[1;32mreturn\u001b[0m \u001b[0mnp\u001b[0m\u001b[1;33m.\u001b[0m\u001b[0mzeros\u001b[0m\u001b[1;33m(\u001b[0m\u001b[0mself\u001b[0m\u001b[1;33m.\u001b[0m\u001b[0mshape\u001b[0m\u001b[1;33m,\u001b[0m \u001b[0mdtype\u001b[0m\u001b[1;33m=\u001b[0m\u001b[0mself\u001b[0m\u001b[1;33m.\u001b[0m\u001b[0mdtype\u001b[0m\u001b[1;33m,\u001b[0m \u001b[0morder\u001b[0m\u001b[1;33m=\u001b[0m\u001b[0morder\u001b[0m\u001b[1;33m)\u001b[0m\u001b[1;33m\u001b[0m\u001b[0m\n\u001b[0m\u001b[0;32m   1131\u001b[0m \u001b[1;33m\u001b[0m\u001b[0m\n\u001b[0;32m   1132\u001b[0m     \u001b[1;32mdef\u001b[0m \u001b[0m__numpy_ufunc__\u001b[0m\u001b[1;33m(\u001b[0m\u001b[0mself\u001b[0m\u001b[1;33m,\u001b[0m \u001b[0mfunc\u001b[0m\u001b[1;33m,\u001b[0m \u001b[0mmethod\u001b[0m\u001b[1;33m,\u001b[0m \u001b[0mpos\u001b[0m\u001b[1;33m,\u001b[0m \u001b[0minputs\u001b[0m\u001b[1;33m,\u001b[0m \u001b[1;33m**\u001b[0m\u001b[0mkwargs\u001b[0m\u001b[1;33m)\u001b[0m\u001b[1;33m:\u001b[0m\u001b[1;33m\u001b[0m\u001b[0m\n",
      "\u001b[1;31mMemoryError\u001b[0m: "
     ]
    }
   ],
   "source": [
    "import csv\n",
    "import numpy as np\n",
    "import pandas as pd\n",
    "num = list(recs['appl_doc_number'])\n",
    "\n",
    "scores = []\n",
    "toCSV = []\n",
    "csvwrite = {}\n",
    "idx = 1\n",
    "for app in set(num):\n",
    "    if idx > 100:\n",
    "        break\n",
    "    query_string = df.select(\"claim_text\").filter(df[\"appl_doc_number\"] == app).collect()\n",
    "    result = query_wrapper(str(query_string[0]),0.1,200)\n",
    "    lista = list(result[0]['patent_number'])\n",
    "    #csvwrite['model_result'] = lista\n",
    "    \n",
    "    listb = list(recs[recs['appl_doc_number'] == app]['priorart_patent_number'])\n",
    "    #csvwrite['compare_with'] = listb\n",
    "    #csvwrite['score']=similar(listb, lista)\n",
    "    #toCSV.append(csvwrite)\n",
    "    #scores.append(csvwrite['score'])\n",
    "    print(app)\n",
    "    #print(lista)\n",
    "    #print(listb)\n",
    "    print(similar(listb, lista))\n",
    "\n",
    "    idx = idx + 1\n",
    "# ns = np.array(scores)\n",
    "# ns.mean() * 100\n",
    "# keys = toCSV[0].keys()\n",
    "# with open('/home/ubuntu/data/results/results.csv', 'wb') as output_file:\n",
    "#     dict_writer = csv.DictWriter(output_file, keys)\n",
    "#     dict_writer.writeheader()\n",
    "#     dict_writer.writerows(toCSV)  "
   ]
  },
  {
   "cell_type": "code",
   "execution_count": null,
   "metadata": {
    "collapsed": true
   },
   "outputs": [],
   "source": []
  },
  {
   "cell_type": "code",
   "execution_count": 10,
   "metadata": {
    "collapsed": false
   },
   "outputs": [
    {
     "name": "stdout",
     "output_type": "stream",
     "text": [
      "13123596\n",
      "[8848920.0, nan]\n",
      "[8331091.0]\n",
      "0.0\n"
     ]
    }
   ],
   "source": [
    "print(app)\n",
    "print(lista)\n",
    "print(listb)\n",
    "#listb.append('08666555')\n",
    "#print(listb)\n",
    "print(similar(listb, lista))"
   ]
  },
  {
   "cell_type": "code",
   "execution_count": 33,
   "metadata": {
    "collapsed": false
   },
   "outputs": [
    {
     "name": "stdout",
     "output_type": "stream",
     "text": [
      "[Row(claim_text='1 . A load control system for a building having a lighting load and a window located in a space of the building, the load control system comprising:  a lighting control device for controlling the amount of power delivered to a lighting load;   a motorized window treatment comprising a window treatment fabric for covering the window, the motorized window treatment operable to move the fabric between a fully-open position in which the window is not covered and a fully-closed position in which the window is covered;   a daylight sensor for measuring an ambient light intensity in the space; and   a controller operable to control the motorized window treatment to move the fabric to a position above the fully-closed position, the controller operable to control the lighting control device so as to adjust the amount of power delivered to the lighting load in response to the ambient light intensity in the space as determined by the daylight sensor;   wherein the controller is operable to determine if the lighting load is consuming less energy when the fabric of the motorized window treatment is at the position above the fully-closed position than the lighting load would consume if the fabric was at the fully-closed position, the motorized window treatment operable to move the fabric to the fully-closed position if the lighting load is consuming more energy when the fabric is at the position above the fully-closed position.          2 . The load control system of  claim 1 , wherein the load control system is responsive to a demand response command, the controller operable to control the motorized window treatment to move the fabric to the position above the fully-closed position in response to the demand response command.        3 . The load control system of  claim 2 , further comprising:  an occupancy sensor for detecting whether the space is occupied or unoccupied;   wherein the controller is operable to control the motorized window treatment to move the fabric to the position above the fully-closed position in response to the demand response command when the space is occupied.          4 . The load control system of  claim 3 , wherein the motorized window treatment is operable to move the fabric to the position above the fully-closed position in response to the demand response command when the room is occupied, the heating and cooling system is cooling the building, and the window may be receiving direct sunlight.        5 . The load control system of  claim 4 , wherein the controller operable to determine whether the window may be receiving direct sunlight in response to the present time of the day.        6 . The load control system of  claim 5 , wherein the controller is operable to determine whether the window may be receiving direct sunlight using the longitude and latitude of the location of the building and an angle of a fa&#231;ade in which the window is located with respect to true north.        7 . The load control system of  claim 3 , wherein the motorized window treatment is operable to move the fabric according to a predetermined timeclock schedule to move the fabric to the position above the fully-closed position.        8 . The load control system of  claim 7 , wherein the motorized window treatment is operable to move the fabric according to the predetermined timeclock schedule in order to limit a sunlight penetration depth in the space to a maximum penetration depth.        9 . The load control system of  claim 2 , wherein the controller is operable to receive the demand response command and to transmit digital messages to the lighting control device and the motorized window treatment in response to receiving the demand response command.        10 . The load control system of  claim 2 , further comprising:  a temperature control device for controlling a setpoint temperature of a heating and cooling system of the building to thus control a present temperature in the building;   wherein, when the heating and cooling system is heating the building, the motorized window treatment is operable to move the fabric to the fully-closed position if the lighting load is consuming more energy when the fabric of the motorized window treatment is at the position above the fully-closed position.          11 . The load control system of  claim 2 , wherein, when there may not be direct sunlight on the window, the motorized window treatment is operable to move the fabric to the fully-closed position if the lighting load is consuming more energy when the fabric of the motorized window treatment is at the position above the fully-closed position.        12 . The load control system of  claim 1 , wherein the controller is operable to increase the present intensity of the lighting load if the ambient light intensity in the space is less than a setpoint intensity, and to decrease the present intensity of the lighting load if the ambient light intensity in the space is greater than the setpoint intensity.        13 . A method of controlling a total light level in a space of a building, the building having a lighting load and a window located in the space, the method comprising:  controlling a motorized window treatment having a window treatment fabric for covering the window to move the fabric between a fully-open position in which the window is not covered and a fully-closed position in which the window is covered;   moving the fabric of the motorized window treatment to a position above the fully-closed position;   measuring an ambient light intensity in the space;   adjusting the amount of power delivered to the lighting load in response to the ambient light intensity in the space;   determining if the lighting load is consuming less energy when the fabric of the motorized window treatment is at the position above the fully-closed position than the lighting load would consume if the fabric was at the fully-closed position; and   moving the fabric to the fully-closed position if the lighting load is consuming more energy when the fabric is at the position above the fully-closed position.          14 . The method of  claim 13 , further comprising:  receiving a demand response command;   wherein moving the fabric of the motorized window treatment to a position above the fully-closed position further comprises moving the fabric of the motorized window treatment to a position above the fully-closed position in response to receiving the demand response command.          15 . The method of  claim 14 , wherein moving the fabric of the motorized window treatment to a position above the fully-closed position further comprises moving the fabric of the motorized window treatment according to a predetermined timeclock schedule in response to receiving the demand response command when the space is occupied and the window may not be receiving direct sunlight.        16 . The method of  claim 15 , wherein moving the fabric of the motorized window treatment according to a predetermined timeclock schedule further comprises moving the fabric in order to limit a sunlight penetration depth in the space to a maximum penetration depth.        17 . The method of  claim 14 , further comprising:  detecting whether the space is occupied or unoccupied; and   determining if the window may be receiving direct sunlight;   wherein moving the fabric of the motorized window treatment to a position above the fully-closed position further comprises moving the fabric of the motorized window treatment to a position above the fully-closed position in response to receiving the demand response command when the space is occupied and the window may not be receiving direct sunlight.          18 . The method of  claim 13 , wherein adjusting the amount of power delivered to the lighting load in response to the ambient light intensity in the space further comprises:  increasing the present intensity of the lighting load if the ambient light intensity in the space is less than a setpoint intensity; and   decreasing the present intensity of the lighting load if the ambient light intensity in the space is greater than the setpoint intensity.          19 . A load control system for a building having a lighting load and a window located in a space of the building, the load control system comprising:  a lighting control device for controlling the amount of power delivered to a lighting load;   a motorized window treatment comprising a window treatment fabric for covering the window, the motorized window treatment operable to move the fabric between a fully-open position in which the window is not covered and a fully-closed position in which the window is covered;   a daylight sensor for measuring an ambient light intensity in the space; and   a controller operable to control the motorized window treatment to move the fabric to a position above the fully-closed position, the controller operable to use a daylighting procedure to adjust the amount of power delivered to the lighting load in response to the ambient light intensity in the space as determined by the daylight sensor;   wherein the controller is operable to cause the motorized window treatment to move the fabric to the fully-closed position if the daylighting procedure is not causing the lighting control device to save energy.          20 . The load control system of  claim 19 , wherein the controller is operable to determine if the lighting load is consuming less energy when the fabric of the motorized window treatment is at the position above the fully-closed position than the lighting load would consume if the fabric was at the fully-closed position, the motorized window treatment operable to move the fabric to the fully-closed position if the lighting load is consuming more energy when the fabric is at the position above the fully-closed position.')]\n"
     ]
    }
   ],
   "source": [
    "print(query_string)"
   ]
  },
  {
   "cell_type": "code",
   "execution_count": 26,
   "metadata": {
    "collapsed": false
   },
   "outputs": [
    {
     "name": "stdout",
     "output_type": "stream",
     "text": [
      "['08666555', '08417388', '09141093', '08901769', '08975778', '09013059', nan]\n"
     ]
    }
   ],
   "source": [
    "lista = list(result[0]['patent_number'])\n",
    "print(lista)"
   ]
  },
  {
   "cell_type": "code",
   "execution_count": 27,
   "metadata": {
    "collapsed": true
   },
   "outputs": [],
   "source": [
    "listb = list(recs[recs['application_number'] == app]['priorart_number'])"
   ]
  },
  {
   "cell_type": "code",
   "execution_count": 31,
   "metadata": {
    "collapsed": false
   },
   "outputs": [
    {
     "name": "stdout",
     "output_type": "stream",
     "text": [
      "12845056\n",
      "['08666555', '08417388', '09141093', '08901769', '08975778', '09013059', nan]\n",
      "['5406173', '08666555']\n",
      "['5406173', '08666555', '08666555']\n"
     ]
    },
    {
     "data": {
      "text/plain": [
       "0.2"
      ]
     },
     "execution_count": 31,
     "metadata": {},
     "output_type": "execute_result"
    }
   ],
   "source": [
    "print(app)\n",
    "print(lista)\n",
    "print(listb)\n",
    "listb.append('08666555')\n",
    "print(listb)\n",
    "similar(listb, lista)"
   ]
  },
  {
   "cell_type": "code",
   "execution_count": 14,
   "metadata": {
    "collapsed": true
   },
   "outputs": [],
   "source": [
    "   listb = list(recs[recs['application_number'] == app]['priorart_number'])\n",
    "    "
   ]
  },
  {
   "cell_type": "code",
   "execution_count": 20,
   "metadata": {
    "collapsed": false
   },
   "outputs": [
    {
     "name": "stdout",
     "output_type": "stream",
     "text": [
      "(   cosine_similarity appl_doc_number  \\\n",
      "0           0.703763        12845056   \n",
      "3           0.593098        12845041   \n",
      "8           0.586084        13848367   \n",
      "2           0.545336        12845016   \n",
      "7           0.528298        13727043   \n",
      "4           0.522476        13234758   \n",
      "9           0.518479        14605054   \n",
      "\n",
      "                                     invention_title  \\\n",
      "0  Load Control System Having An Energy Savings Mode   \n",
      "3  Load Control System Having An Energy Savings Mode   \n",
      "8  LOAD CONTROL SYSTEM HAVING AN ENERGY SAVINGS MODE   \n",
      "2  Load Control System Having An Energy Savings Mode   \n",
      "7  Load Control System Providing Manual Override ...   \n",
      "4  Load Control System Having an Energy Savings Mode   \n",
      "9  LOAD CONTROL SYSTEM PROVIDING MANUAL OVERRIDE ...   \n",
      "\n",
      "                                            abstract  \\\n",
      "0  A load control system for a building having a ...   \n",
      "3  A load control system for a building having a ...   \n",
      "8  A load control system for a building having a ...   \n",
      "2  A load control system for a building having a ...   \n",
      "7  A load control system for a building having a ...   \n",
      "4  A load control system for a building having a ...   \n",
      "9  A load control system for a building having a ...   \n",
      "\n",
      "                                          claim_text patent_number  \n",
      "0  1 . A load control system for a building havin...      08666555  \n",
      "3  1 . A load control system for a building havin...      08417388  \n",
      "8  1 . A load control system for a building havin...      09141093  \n",
      "2  1 . A load control system for a building havin...      08901769  \n",
      "7  1 . A load control system for a building havin...      08975778  \n",
      "4  1 . A load control system for a building havin...      09013059  \n",
      "9  1 . A load control system for a building havin...           NaN  , 6, 1)\n"
     ]
    }
   ],
   "source": [
    "print(result)"
   ]
  }
 ],
 "metadata": {
  "anaconda-cloud": {},
  "kernelspec": {
   "display_name": "Python [Root]",
   "language": "python",
   "name": "Python [Root]"
  },
  "language_info": {
   "codemirror_mode": {
    "name": "ipython",
    "version": 3
   },
   "file_extension": ".py",
   "mimetype": "text/x-python",
   "name": "python",
   "nbconvert_exporter": "python",
   "pygments_lexer": "ipython3",
   "version": "3.5.2"
  }
 },
 "nbformat": 4,
 "nbformat_minor": 2
}
